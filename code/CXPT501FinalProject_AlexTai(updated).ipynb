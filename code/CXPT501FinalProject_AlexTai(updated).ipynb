{
  "nbformat": 4,
  "nbformat_minor": 0,
  "metadata": {
    "colab": {
      "provenance": []
    },
    "kernelspec": {
      "name": "python3",
      "display_name": "Python 3"
    },
    "language_info": {
      "name": "python"
    }
  },
  "cells": [
    {
      "cell_type": "code",
      "source": [
        "#Create directories startingData, code, results, and figures and their README files (content directory\n",
        "#should have one too) with unix"
      ],
      "metadata": {
        "id": "ZZa7yxGu9OQg"
      },
      "execution_count": 1,
      "outputs": []
    },
    {
      "cell_type": "code",
      "source": [
        "%%bash\n",
        "rm -r sample_data "
      ],
      "metadata": {
        "id": "mCYAoTH19PHg"
      },
      "execution_count": 2,
      "outputs": []
    },
    {
      "cell_type": "code",
      "source": [
        "%%bash\n",
        "mkdir startingData code results figures"
      ],
      "metadata": {
        "id": "lCpQnc7B9O-R"
      },
      "execution_count": 3,
      "outputs": []
    },
    {
      "cell_type": "code",
      "source": [
        "%%bash\n",
        "cat > README.md\n",
        "Complete analysis of the steatosis dataset taken from the article: Prevalence of Liver Steatosis and Fibrosis and Diagnostic Accuracy of Ultrasound in Bariatric Surgery Patients"
      ],
      "metadata": {
        "id": "Awvhoz7W9Ovs"
      },
      "execution_count": 4,
      "outputs": []
    },
    {
      "cell_type": "code",
      "source": [
        "%%bash\n",
        "cd startingData\n",
        "cat > README.md\n",
        "Cleaned dataframes for both the confusion matrix (df4) and clinical characteristics (dfnew) portion of the analysis."
      ],
      "metadata": {
        "id": "9S4Lab4D9Okn"
      },
      "execution_count": 5,
      "outputs": []
    },
    {
      "cell_type": "code",
      "source": [
        "%%bash\n",
        "cd code\n",
        "cat > README.md\n",
        "Entire code file of the analysis done on this working local repository in ipynb format."
      ],
      "metadata": {
        "id": "9sIY5gRv9f2M"
      },
      "execution_count": 101,
      "outputs": []
    },
    {
      "cell_type": "code",
      "source": [
        "%%bash\n",
        "cd results\n",
        "cat > README.md\n",
        "Contains all tables in the final report. Includes confusion and probility matrices for gender demographics/actual diagnoses and expected/actual diagnoses crosstabs along with a table with confusion matrix metrics."
      ],
      "metadata": {
        "id": "nI5itd059iTR"
      },
      "execution_count": 100,
      "outputs": []
    },
    {
      "cell_type": "code",
      "source": [
        "%%bash\n",
        "cd figures\n",
        "cat > README.md\n",
        "Contains all figures in the final report. Includes bar plots and overlapping strip and box plots for clinical characteristics"
      ],
      "metadata": {
        "id": "Bu25YAIk9oik"
      },
      "execution_count": 99,
      "outputs": []
    },
    {
      "cell_type": "code",
      "source": [
        "#import all relevant libraries\n",
        "import numpy as np\n",
        "import seaborn as sns \n",
        "import matplotlib.pyplot as plt\n",
        "import scipy.stats as stats"
      ],
      "metadata": {
        "id": "mZ-H4aQiclLC"
      },
      "execution_count": 9,
      "outputs": []
    },
    {
      "cell_type": "code",
      "execution_count": 10,
      "metadata": {
        "id": "DUrpyUs6eG3D",
        "colab": {
          "base_uri": "https://localhost:8080/",
          "height": 468
        },
        "outputId": "493f23b9-2061-466f-fb8d-29261bd15af6"
      },
      "outputs": [
        {
          "output_type": "execute_result",
          "data": {
            "text/plain": [
              "      Age  Sex  Height  Weight   BMI  Obesity Duration   DM  MET Syndrome  \\\n",
              "0    61.2    2   162.6   127.2  48.1              35.0  0.0           1.0   \n",
              "1    40.4    2   165.1   137.8  50.5              23.0  1.0           1.0   \n",
              "2    38.5    1   193.0   217.1  58.3              11.0  1.0           1.0   \n",
              "3    65.0    1   161.0   131.0  50.5              20.0  1.0           1.0   \n",
              "4    56.3    2   165.1   124.0  45.5              22.0  0.0           1.0   \n",
              "..    ...  ...     ...     ...   ...               ...  ...           ...   \n",
              "438  45.0    1   186.7   136.0  39.0              15.0  0.0           0.0   \n",
              "439  46.0    2   165.1   121.7  44.6              21.0  1.0           1.0   \n",
              "440  40.0    2   154.9   108.0  45.0              15.0  0.0           0.0   \n",
              "441  37.6    2   167.6   141.1  50.2              20.0  0.0           0.0   \n",
              "442  29.0    2   165.0   146.0  53.6               9.0  0.0           0.0   \n",
              "\n",
              "     HTN  HPL  ...   CHOL   HDL    LDL  VLDL   AST   ALT  NAS  Fibrosis  \\\n",
              "0    1.0  1.0  ...  202.0  50.0  124.0  28.0  22.0  14.0  3.0         0   \n",
              "1    1.0  1.0  ...  213.0  49.0  143.0  21.0  50.0  78.0  6.0         0   \n",
              "2    1.0  0.0  ...  146.0  51.0   78.0  17.0  30.0  35.0  3.0         1   \n",
              "3    1.0  0.0  ...  191.0  55.0  113.0   NaN  21.0  26.0  1.0         0   \n",
              "4    1.0  0.0  ...  134.0  46.0   57.0  31.0  12.0  15.0  1.0         0   \n",
              "..   ...  ...  ...    ...   ...    ...   ...   ...   ...  ...       ...   \n",
              "438  1.0  1.0  ...  164.0  65.0   83.0  16.0  30.0  47.0  1.0         0   \n",
              "439  1.0  1.0  ...  280.0  68.0  173.0  39.0  34.0  34.0  0.0         0   \n",
              "440  0.0  1.0  ...  217.0  53.0  153.0  11.0  27.0  19.0  0.0         0   \n",
              "441  0.0  0.0  ...  153.0  64.0   80.0   9.0  14.0  14.0  0.0         0   \n",
              "442  0.0  0.0  ...  134.0  44.0   78.0  12.0  17.0  11.0  0.0         0   \n",
              "\n",
              "     LS+ US  LS+ Biopsy  \n",
              "0       1.0         1.0  \n",
              "1       0.0         1.0  \n",
              "2       1.0         1.0  \n",
              "3       1.0         1.0  \n",
              "4       0.0         1.0  \n",
              "..      ...         ...  \n",
              "438     1.0         1.0  \n",
              "439     0.0         0.0  \n",
              "440     0.0         0.0  \n",
              "441     1.0         0.0  \n",
              "442     1.0         0.0  \n",
              "\n",
              "[443 rows x 21 columns]"
            ],
            "text/html": [
              "\n",
              "  <div id=\"df-a96fc054-cd2f-4b31-965c-64c02f84f117\">\n",
              "    <div class=\"colab-df-container\">\n",
              "      <div>\n",
              "<style scoped>\n",
              "    .dataframe tbody tr th:only-of-type {\n",
              "        vertical-align: middle;\n",
              "    }\n",
              "\n",
              "    .dataframe tbody tr th {\n",
              "        vertical-align: top;\n",
              "    }\n",
              "\n",
              "    .dataframe thead th {\n",
              "        text-align: right;\n",
              "    }\n",
              "</style>\n",
              "<table border=\"1\" class=\"dataframe\">\n",
              "  <thead>\n",
              "    <tr style=\"text-align: right;\">\n",
              "      <th></th>\n",
              "      <th>Age</th>\n",
              "      <th>Sex</th>\n",
              "      <th>Height</th>\n",
              "      <th>Weight</th>\n",
              "      <th>BMI</th>\n",
              "      <th>Obesity Duration</th>\n",
              "      <th>DM</th>\n",
              "      <th>MET Syndrome</th>\n",
              "      <th>HTN</th>\n",
              "      <th>HPL</th>\n",
              "      <th>...</th>\n",
              "      <th>CHOL</th>\n",
              "      <th>HDL</th>\n",
              "      <th>LDL</th>\n",
              "      <th>VLDL</th>\n",
              "      <th>AST</th>\n",
              "      <th>ALT</th>\n",
              "      <th>NAS</th>\n",
              "      <th>Fibrosis</th>\n",
              "      <th>LS+ US</th>\n",
              "      <th>LS+ Biopsy</th>\n",
              "    </tr>\n",
              "  </thead>\n",
              "  <tbody>\n",
              "    <tr>\n",
              "      <th>0</th>\n",
              "      <td>61.2</td>\n",
              "      <td>2</td>\n",
              "      <td>162.6</td>\n",
              "      <td>127.2</td>\n",
              "      <td>48.1</td>\n",
              "      <td>35.0</td>\n",
              "      <td>0.0</td>\n",
              "      <td>1.0</td>\n",
              "      <td>1.0</td>\n",
              "      <td>1.0</td>\n",
              "      <td>...</td>\n",
              "      <td>202.0</td>\n",
              "      <td>50.0</td>\n",
              "      <td>124.0</td>\n",
              "      <td>28.0</td>\n",
              "      <td>22.0</td>\n",
              "      <td>14.0</td>\n",
              "      <td>3.0</td>\n",
              "      <td>0</td>\n",
              "      <td>1.0</td>\n",
              "      <td>1.0</td>\n",
              "    </tr>\n",
              "    <tr>\n",
              "      <th>1</th>\n",
              "      <td>40.4</td>\n",
              "      <td>2</td>\n",
              "      <td>165.1</td>\n",
              "      <td>137.8</td>\n",
              "      <td>50.5</td>\n",
              "      <td>23.0</td>\n",
              "      <td>1.0</td>\n",
              "      <td>1.0</td>\n",
              "      <td>1.0</td>\n",
              "      <td>1.0</td>\n",
              "      <td>...</td>\n",
              "      <td>213.0</td>\n",
              "      <td>49.0</td>\n",
              "      <td>143.0</td>\n",
              "      <td>21.0</td>\n",
              "      <td>50.0</td>\n",
              "      <td>78.0</td>\n",
              "      <td>6.0</td>\n",
              "      <td>0</td>\n",
              "      <td>0.0</td>\n",
              "      <td>1.0</td>\n",
              "    </tr>\n",
              "    <tr>\n",
              "      <th>2</th>\n",
              "      <td>38.5</td>\n",
              "      <td>1</td>\n",
              "      <td>193.0</td>\n",
              "      <td>217.1</td>\n",
              "      <td>58.3</td>\n",
              "      <td>11.0</td>\n",
              "      <td>1.0</td>\n",
              "      <td>1.0</td>\n",
              "      <td>1.0</td>\n",
              "      <td>0.0</td>\n",
              "      <td>...</td>\n",
              "      <td>146.0</td>\n",
              "      <td>51.0</td>\n",
              "      <td>78.0</td>\n",
              "      <td>17.0</td>\n",
              "      <td>30.0</td>\n",
              "      <td>35.0</td>\n",
              "      <td>3.0</td>\n",
              "      <td>1</td>\n",
              "      <td>1.0</td>\n",
              "      <td>1.0</td>\n",
              "    </tr>\n",
              "    <tr>\n",
              "      <th>3</th>\n",
              "      <td>65.0</td>\n",
              "      <td>1</td>\n",
              "      <td>161.0</td>\n",
              "      <td>131.0</td>\n",
              "      <td>50.5</td>\n",
              "      <td>20.0</td>\n",
              "      <td>1.0</td>\n",
              "      <td>1.0</td>\n",
              "      <td>1.0</td>\n",
              "      <td>0.0</td>\n",
              "      <td>...</td>\n",
              "      <td>191.0</td>\n",
              "      <td>55.0</td>\n",
              "      <td>113.0</td>\n",
              "      <td>NaN</td>\n",
              "      <td>21.0</td>\n",
              "      <td>26.0</td>\n",
              "      <td>1.0</td>\n",
              "      <td>0</td>\n",
              "      <td>1.0</td>\n",
              "      <td>1.0</td>\n",
              "    </tr>\n",
              "    <tr>\n",
              "      <th>4</th>\n",
              "      <td>56.3</td>\n",
              "      <td>2</td>\n",
              "      <td>165.1</td>\n",
              "      <td>124.0</td>\n",
              "      <td>45.5</td>\n",
              "      <td>22.0</td>\n",
              "      <td>0.0</td>\n",
              "      <td>1.0</td>\n",
              "      <td>1.0</td>\n",
              "      <td>0.0</td>\n",
              "      <td>...</td>\n",
              "      <td>134.0</td>\n",
              "      <td>46.0</td>\n",
              "      <td>57.0</td>\n",
              "      <td>31.0</td>\n",
              "      <td>12.0</td>\n",
              "      <td>15.0</td>\n",
              "      <td>1.0</td>\n",
              "      <td>0</td>\n",
              "      <td>0.0</td>\n",
              "      <td>1.0</td>\n",
              "    </tr>\n",
              "    <tr>\n",
              "      <th>...</th>\n",
              "      <td>...</td>\n",
              "      <td>...</td>\n",
              "      <td>...</td>\n",
              "      <td>...</td>\n",
              "      <td>...</td>\n",
              "      <td>...</td>\n",
              "      <td>...</td>\n",
              "      <td>...</td>\n",
              "      <td>...</td>\n",
              "      <td>...</td>\n",
              "      <td>...</td>\n",
              "      <td>...</td>\n",
              "      <td>...</td>\n",
              "      <td>...</td>\n",
              "      <td>...</td>\n",
              "      <td>...</td>\n",
              "      <td>...</td>\n",
              "      <td>...</td>\n",
              "      <td>...</td>\n",
              "      <td>...</td>\n",
              "      <td>...</td>\n",
              "    </tr>\n",
              "    <tr>\n",
              "      <th>438</th>\n",
              "      <td>45.0</td>\n",
              "      <td>1</td>\n",
              "      <td>186.7</td>\n",
              "      <td>136.0</td>\n",
              "      <td>39.0</td>\n",
              "      <td>15.0</td>\n",
              "      <td>0.0</td>\n",
              "      <td>0.0</td>\n",
              "      <td>1.0</td>\n",
              "      <td>1.0</td>\n",
              "      <td>...</td>\n",
              "      <td>164.0</td>\n",
              "      <td>65.0</td>\n",
              "      <td>83.0</td>\n",
              "      <td>16.0</td>\n",
              "      <td>30.0</td>\n",
              "      <td>47.0</td>\n",
              "      <td>1.0</td>\n",
              "      <td>0</td>\n",
              "      <td>1.0</td>\n",
              "      <td>1.0</td>\n",
              "    </tr>\n",
              "    <tr>\n",
              "      <th>439</th>\n",
              "      <td>46.0</td>\n",
              "      <td>2</td>\n",
              "      <td>165.1</td>\n",
              "      <td>121.7</td>\n",
              "      <td>44.6</td>\n",
              "      <td>21.0</td>\n",
              "      <td>1.0</td>\n",
              "      <td>1.0</td>\n",
              "      <td>1.0</td>\n",
              "      <td>1.0</td>\n",
              "      <td>...</td>\n",
              "      <td>280.0</td>\n",
              "      <td>68.0</td>\n",
              "      <td>173.0</td>\n",
              "      <td>39.0</td>\n",
              "      <td>34.0</td>\n",
              "      <td>34.0</td>\n",
              "      <td>0.0</td>\n",
              "      <td>0</td>\n",
              "      <td>0.0</td>\n",
              "      <td>0.0</td>\n",
              "    </tr>\n",
              "    <tr>\n",
              "      <th>440</th>\n",
              "      <td>40.0</td>\n",
              "      <td>2</td>\n",
              "      <td>154.9</td>\n",
              "      <td>108.0</td>\n",
              "      <td>45.0</td>\n",
              "      <td>15.0</td>\n",
              "      <td>0.0</td>\n",
              "      <td>0.0</td>\n",
              "      <td>0.0</td>\n",
              "      <td>1.0</td>\n",
              "      <td>...</td>\n",
              "      <td>217.0</td>\n",
              "      <td>53.0</td>\n",
              "      <td>153.0</td>\n",
              "      <td>11.0</td>\n",
              "      <td>27.0</td>\n",
              "      <td>19.0</td>\n",
              "      <td>0.0</td>\n",
              "      <td>0</td>\n",
              "      <td>0.0</td>\n",
              "      <td>0.0</td>\n",
              "    </tr>\n",
              "    <tr>\n",
              "      <th>441</th>\n",
              "      <td>37.6</td>\n",
              "      <td>2</td>\n",
              "      <td>167.6</td>\n",
              "      <td>141.1</td>\n",
              "      <td>50.2</td>\n",
              "      <td>20.0</td>\n",
              "      <td>0.0</td>\n",
              "      <td>0.0</td>\n",
              "      <td>0.0</td>\n",
              "      <td>0.0</td>\n",
              "      <td>...</td>\n",
              "      <td>153.0</td>\n",
              "      <td>64.0</td>\n",
              "      <td>80.0</td>\n",
              "      <td>9.0</td>\n",
              "      <td>14.0</td>\n",
              "      <td>14.0</td>\n",
              "      <td>0.0</td>\n",
              "      <td>0</td>\n",
              "      <td>1.0</td>\n",
              "      <td>0.0</td>\n",
              "    </tr>\n",
              "    <tr>\n",
              "      <th>442</th>\n",
              "      <td>29.0</td>\n",
              "      <td>2</td>\n",
              "      <td>165.0</td>\n",
              "      <td>146.0</td>\n",
              "      <td>53.6</td>\n",
              "      <td>9.0</td>\n",
              "      <td>0.0</td>\n",
              "      <td>0.0</td>\n",
              "      <td>0.0</td>\n",
              "      <td>0.0</td>\n",
              "      <td>...</td>\n",
              "      <td>134.0</td>\n",
              "      <td>44.0</td>\n",
              "      <td>78.0</td>\n",
              "      <td>12.0</td>\n",
              "      <td>17.0</td>\n",
              "      <td>11.0</td>\n",
              "      <td>0.0</td>\n",
              "      <td>0</td>\n",
              "      <td>1.0</td>\n",
              "      <td>0.0</td>\n",
              "    </tr>\n",
              "  </tbody>\n",
              "</table>\n",
              "<p>443 rows × 21 columns</p>\n",
              "</div>\n",
              "      <button class=\"colab-df-convert\" onclick=\"convertToInteractive('df-a96fc054-cd2f-4b31-965c-64c02f84f117')\"\n",
              "              title=\"Convert this dataframe to an interactive table.\"\n",
              "              style=\"display:none;\">\n",
              "        \n",
              "  <svg xmlns=\"http://www.w3.org/2000/svg\" height=\"24px\"viewBox=\"0 0 24 24\"\n",
              "       width=\"24px\">\n",
              "    <path d=\"M0 0h24v24H0V0z\" fill=\"none\"/>\n",
              "    <path d=\"M18.56 5.44l.94 2.06.94-2.06 2.06-.94-2.06-.94-.94-2.06-.94 2.06-2.06.94zm-11 1L8.5 8.5l.94-2.06 2.06-.94-2.06-.94L8.5 2.5l-.94 2.06-2.06.94zm10 10l.94 2.06.94-2.06 2.06-.94-2.06-.94-.94-2.06-.94 2.06-2.06.94z\"/><path d=\"M17.41 7.96l-1.37-1.37c-.4-.4-.92-.59-1.43-.59-.52 0-1.04.2-1.43.59L10.3 9.45l-7.72 7.72c-.78.78-.78 2.05 0 2.83L4 21.41c.39.39.9.59 1.41.59.51 0 1.02-.2 1.41-.59l7.78-7.78 2.81-2.81c.8-.78.8-2.07 0-2.86zM5.41 20L4 18.59l7.72-7.72 1.47 1.35L5.41 20z\"/>\n",
              "  </svg>\n",
              "      </button>\n",
              "      \n",
              "  <style>\n",
              "    .colab-df-container {\n",
              "      display:flex;\n",
              "      flex-wrap:wrap;\n",
              "      gap: 12px;\n",
              "    }\n",
              "\n",
              "    .colab-df-convert {\n",
              "      background-color: #E8F0FE;\n",
              "      border: none;\n",
              "      border-radius: 50%;\n",
              "      cursor: pointer;\n",
              "      display: none;\n",
              "      fill: #1967D2;\n",
              "      height: 32px;\n",
              "      padding: 0 0 0 0;\n",
              "      width: 32px;\n",
              "    }\n",
              "\n",
              "    .colab-df-convert:hover {\n",
              "      background-color: #E2EBFA;\n",
              "      box-shadow: 0px 1px 2px rgba(60, 64, 67, 0.3), 0px 1px 3px 1px rgba(60, 64, 67, 0.15);\n",
              "      fill: #174EA6;\n",
              "    }\n",
              "\n",
              "    [theme=dark] .colab-df-convert {\n",
              "      background-color: #3B4455;\n",
              "      fill: #D2E3FC;\n",
              "    }\n",
              "\n",
              "    [theme=dark] .colab-df-convert:hover {\n",
              "      background-color: #434B5C;\n",
              "      box-shadow: 0px 1px 3px 1px rgba(0, 0, 0, 0.15);\n",
              "      filter: drop-shadow(0px 1px 2px rgba(0, 0, 0, 0.3));\n",
              "      fill: #FFFFFF;\n",
              "    }\n",
              "  </style>\n",
              "\n",
              "      <script>\n",
              "        const buttonEl =\n",
              "          document.querySelector('#df-a96fc054-cd2f-4b31-965c-64c02f84f117 button.colab-df-convert');\n",
              "        buttonEl.style.display =\n",
              "          google.colab.kernel.accessAllowed ? 'block' : 'none';\n",
              "\n",
              "        async function convertToInteractive(key) {\n",
              "          const element = document.querySelector('#df-a96fc054-cd2f-4b31-965c-64c02f84f117');\n",
              "          const dataTable =\n",
              "            await google.colab.kernel.invokeFunction('convertToInteractive',\n",
              "                                                     [key], {});\n",
              "          if (!dataTable) return;\n",
              "\n",
              "          const docLinkHtml = 'Like what you see? Visit the ' +\n",
              "            '<a target=\"_blank\" href=https://colab.research.google.com/notebooks/data_table.ipynb>data table notebook</a>'\n",
              "            + ' to learn more about interactive tables.';\n",
              "          element.innerHTML = '';\n",
              "          dataTable['output_type'] = 'display_data';\n",
              "          await google.colab.output.renderOutput(dataTable, element);\n",
              "          const docLink = document.createElement('div');\n",
              "          docLink.innerHTML = docLinkHtml;\n",
              "          element.appendChild(docLink);\n",
              "        }\n",
              "      </script>\n",
              "    </div>\n",
              "  </div>\n",
              "  "
            ]
          },
          "metadata": {},
          "execution_count": 10
        }
      ],
      "source": [
        "#Importing steatosis dataset\n",
        "import pandas as pd\n",
        "df=pd.read_csv('https://www.lerner.ccf.org/qhs/datasets/LiverSteatosis.csv')\n",
        "df"
      ]
    },
    {
      "cell_type": "code",
      "source": [
        "#checking for NaN's\n",
        "df.isnull().sum()"
      ],
      "metadata": {
        "colab": {
          "base_uri": "https://localhost:8080/"
        },
        "id": "Rqngrm8YUgdA",
        "outputId": "c99bee3c-8501-466d-8f92-444a405fb6d3"
      },
      "execution_count": 11,
      "outputs": [
        {
          "output_type": "execute_result",
          "data": {
            "text/plain": [
              "Age                  0\n",
              "Sex                  0\n",
              "Height               0\n",
              "Weight               0\n",
              "BMI                  0\n",
              "Obesity Duration     7\n",
              "DM                   2\n",
              "MET Syndrome         2\n",
              "HTN                  3\n",
              "HPL                  2\n",
              "TG                  32\n",
              "CHOL                32\n",
              "HDL                 32\n",
              "LDL                 48\n",
              "VLDL                50\n",
              "AST                  6\n",
              "ALT                  6\n",
              "NAS                 25\n",
              "Fibrosis             0\n",
              "LS+ US              22\n",
              "LS+ Biopsy           0\n",
              "dtype: int64"
            ]
          },
          "metadata": {},
          "execution_count": 11
        }
      ]
    },
    {
      "cell_type": "code",
      "source": [
        "#Need to locate and eliminate rows with inconclusive gold standard diagnoses as we won't be able to determine actual diagnosis of patient with them.\n",
        "df.loc[df['LS+ Biopsy'] == 0.5]"
      ],
      "metadata": {
        "colab": {
          "base_uri": "https://localhost:8080/",
          "height": 374
        },
        "id": "gLw25QYv6FiR",
        "outputId": "23d602f0-9feb-4a88-de71-1364e06a61bb"
      },
      "execution_count": 12,
      "outputs": [
        {
          "output_type": "execute_result",
          "data": {
            "text/plain": [
              "      Age  Sex  Height  Weight   BMI  Obesity Duration   DM  MET Syndrome  \\\n",
              "43   63.6    1   185.7   159.9  46.4              29.0  1.0           1.0   \n",
              "96   41.3    1   193.0   150.6  40.4              24.0  1.0           1.0   \n",
              "137  45.4    2   161.0   102.2  39.4              16.0  0.0           0.0   \n",
              "254  53.1    2   147.3   123.0  56.7              29.0  0.0           0.0   \n",
              "265  50.3    2   170.2   112.5  38.8              26.0  1.0           1.0   \n",
              "374  33.1    2   182.9   137.6  41.1               9.0  1.0           1.0   \n",
              "421  30.0    2   170.2   129.3  44.6              15.0  NaN           NaN   \n",
              "434  68.0    1   174.0   146.0  48.2              20.0  NaN           NaN   \n",
              "\n",
              "     HTN  HPL  ...   CHOL   HDL    LDL  VLDL   AST   ALT  NAS  Fibrosis  \\\n",
              "43   1.0  1.0  ...  184.0  39.0    NaN   NaN  27.0  21.0  NaN         0   \n",
              "96   1.0  0.0  ...  135.0  35.0   86.0  14.0  24.0  25.0  NaN         0   \n",
              "137  0.0  1.0  ...  194.0  48.0  116.0  30.0  25.0  22.0  NaN         0   \n",
              "254  0.0  1.0  ...  200.0  52.0  120.0  28.0  31.0  50.0  NaN         0   \n",
              "265  1.0  1.0  ...  189.0  38.0   96.0  55.0  19.0  29.0  NaN         0   \n",
              "374  1.0  0.0  ...  157.0  34.0   94.0  29.0  24.0  36.0  NaN         0   \n",
              "421  NaN  NaN  ...    NaN   NaN    NaN   NaN   NaN   NaN  NaN         0   \n",
              "434  NaN  NaN  ...    NaN   NaN    NaN   NaN   NaN   NaN  NaN         0   \n",
              "\n",
              "     LS+ US  LS+ Biopsy  \n",
              "43      0.5         0.5  \n",
              "96      1.0         0.5  \n",
              "137     1.0         0.5  \n",
              "254     1.0         0.5  \n",
              "265     1.0         0.5  \n",
              "374     1.0         0.5  \n",
              "421     0.0         0.5  \n",
              "434     1.0         0.5  \n",
              "\n",
              "[8 rows x 21 columns]"
            ],
            "text/html": [
              "\n",
              "  <div id=\"df-e3d16e43-d1f9-474d-a199-b3917671b71f\">\n",
              "    <div class=\"colab-df-container\">\n",
              "      <div>\n",
              "<style scoped>\n",
              "    .dataframe tbody tr th:only-of-type {\n",
              "        vertical-align: middle;\n",
              "    }\n",
              "\n",
              "    .dataframe tbody tr th {\n",
              "        vertical-align: top;\n",
              "    }\n",
              "\n",
              "    .dataframe thead th {\n",
              "        text-align: right;\n",
              "    }\n",
              "</style>\n",
              "<table border=\"1\" class=\"dataframe\">\n",
              "  <thead>\n",
              "    <tr style=\"text-align: right;\">\n",
              "      <th></th>\n",
              "      <th>Age</th>\n",
              "      <th>Sex</th>\n",
              "      <th>Height</th>\n",
              "      <th>Weight</th>\n",
              "      <th>BMI</th>\n",
              "      <th>Obesity Duration</th>\n",
              "      <th>DM</th>\n",
              "      <th>MET Syndrome</th>\n",
              "      <th>HTN</th>\n",
              "      <th>HPL</th>\n",
              "      <th>...</th>\n",
              "      <th>CHOL</th>\n",
              "      <th>HDL</th>\n",
              "      <th>LDL</th>\n",
              "      <th>VLDL</th>\n",
              "      <th>AST</th>\n",
              "      <th>ALT</th>\n",
              "      <th>NAS</th>\n",
              "      <th>Fibrosis</th>\n",
              "      <th>LS+ US</th>\n",
              "      <th>LS+ Biopsy</th>\n",
              "    </tr>\n",
              "  </thead>\n",
              "  <tbody>\n",
              "    <tr>\n",
              "      <th>43</th>\n",
              "      <td>63.6</td>\n",
              "      <td>1</td>\n",
              "      <td>185.7</td>\n",
              "      <td>159.9</td>\n",
              "      <td>46.4</td>\n",
              "      <td>29.0</td>\n",
              "      <td>1.0</td>\n",
              "      <td>1.0</td>\n",
              "      <td>1.0</td>\n",
              "      <td>1.0</td>\n",
              "      <td>...</td>\n",
              "      <td>184.0</td>\n",
              "      <td>39.0</td>\n",
              "      <td>NaN</td>\n",
              "      <td>NaN</td>\n",
              "      <td>27.0</td>\n",
              "      <td>21.0</td>\n",
              "      <td>NaN</td>\n",
              "      <td>0</td>\n",
              "      <td>0.5</td>\n",
              "      <td>0.5</td>\n",
              "    </tr>\n",
              "    <tr>\n",
              "      <th>96</th>\n",
              "      <td>41.3</td>\n",
              "      <td>1</td>\n",
              "      <td>193.0</td>\n",
              "      <td>150.6</td>\n",
              "      <td>40.4</td>\n",
              "      <td>24.0</td>\n",
              "      <td>1.0</td>\n",
              "      <td>1.0</td>\n",
              "      <td>1.0</td>\n",
              "      <td>0.0</td>\n",
              "      <td>...</td>\n",
              "      <td>135.0</td>\n",
              "      <td>35.0</td>\n",
              "      <td>86.0</td>\n",
              "      <td>14.0</td>\n",
              "      <td>24.0</td>\n",
              "      <td>25.0</td>\n",
              "      <td>NaN</td>\n",
              "      <td>0</td>\n",
              "      <td>1.0</td>\n",
              "      <td>0.5</td>\n",
              "    </tr>\n",
              "    <tr>\n",
              "      <th>137</th>\n",
              "      <td>45.4</td>\n",
              "      <td>2</td>\n",
              "      <td>161.0</td>\n",
              "      <td>102.2</td>\n",
              "      <td>39.4</td>\n",
              "      <td>16.0</td>\n",
              "      <td>0.0</td>\n",
              "      <td>0.0</td>\n",
              "      <td>0.0</td>\n",
              "      <td>1.0</td>\n",
              "      <td>...</td>\n",
              "      <td>194.0</td>\n",
              "      <td>48.0</td>\n",
              "      <td>116.0</td>\n",
              "      <td>30.0</td>\n",
              "      <td>25.0</td>\n",
              "      <td>22.0</td>\n",
              "      <td>NaN</td>\n",
              "      <td>0</td>\n",
              "      <td>1.0</td>\n",
              "      <td>0.5</td>\n",
              "    </tr>\n",
              "    <tr>\n",
              "      <th>254</th>\n",
              "      <td>53.1</td>\n",
              "      <td>2</td>\n",
              "      <td>147.3</td>\n",
              "      <td>123.0</td>\n",
              "      <td>56.7</td>\n",
              "      <td>29.0</td>\n",
              "      <td>0.0</td>\n",
              "      <td>0.0</td>\n",
              "      <td>0.0</td>\n",
              "      <td>1.0</td>\n",
              "      <td>...</td>\n",
              "      <td>200.0</td>\n",
              "      <td>52.0</td>\n",
              "      <td>120.0</td>\n",
              "      <td>28.0</td>\n",
              "      <td>31.0</td>\n",
              "      <td>50.0</td>\n",
              "      <td>NaN</td>\n",
              "      <td>0</td>\n",
              "      <td>1.0</td>\n",
              "      <td>0.5</td>\n",
              "    </tr>\n",
              "    <tr>\n",
              "      <th>265</th>\n",
              "      <td>50.3</td>\n",
              "      <td>2</td>\n",
              "      <td>170.2</td>\n",
              "      <td>112.5</td>\n",
              "      <td>38.8</td>\n",
              "      <td>26.0</td>\n",
              "      <td>1.0</td>\n",
              "      <td>1.0</td>\n",
              "      <td>1.0</td>\n",
              "      <td>1.0</td>\n",
              "      <td>...</td>\n",
              "      <td>189.0</td>\n",
              "      <td>38.0</td>\n",
              "      <td>96.0</td>\n",
              "      <td>55.0</td>\n",
              "      <td>19.0</td>\n",
              "      <td>29.0</td>\n",
              "      <td>NaN</td>\n",
              "      <td>0</td>\n",
              "      <td>1.0</td>\n",
              "      <td>0.5</td>\n",
              "    </tr>\n",
              "    <tr>\n",
              "      <th>374</th>\n",
              "      <td>33.1</td>\n",
              "      <td>2</td>\n",
              "      <td>182.9</td>\n",
              "      <td>137.6</td>\n",
              "      <td>41.1</td>\n",
              "      <td>9.0</td>\n",
              "      <td>1.0</td>\n",
              "      <td>1.0</td>\n",
              "      <td>1.0</td>\n",
              "      <td>0.0</td>\n",
              "      <td>...</td>\n",
              "      <td>157.0</td>\n",
              "      <td>34.0</td>\n",
              "      <td>94.0</td>\n",
              "      <td>29.0</td>\n",
              "      <td>24.0</td>\n",
              "      <td>36.0</td>\n",
              "      <td>NaN</td>\n",
              "      <td>0</td>\n",
              "      <td>1.0</td>\n",
              "      <td>0.5</td>\n",
              "    </tr>\n",
              "    <tr>\n",
              "      <th>421</th>\n",
              "      <td>30.0</td>\n",
              "      <td>2</td>\n",
              "      <td>170.2</td>\n",
              "      <td>129.3</td>\n",
              "      <td>44.6</td>\n",
              "      <td>15.0</td>\n",
              "      <td>NaN</td>\n",
              "      <td>NaN</td>\n",
              "      <td>NaN</td>\n",
              "      <td>NaN</td>\n",
              "      <td>...</td>\n",
              "      <td>NaN</td>\n",
              "      <td>NaN</td>\n",
              "      <td>NaN</td>\n",
              "      <td>NaN</td>\n",
              "      <td>NaN</td>\n",
              "      <td>NaN</td>\n",
              "      <td>NaN</td>\n",
              "      <td>0</td>\n",
              "      <td>0.0</td>\n",
              "      <td>0.5</td>\n",
              "    </tr>\n",
              "    <tr>\n",
              "      <th>434</th>\n",
              "      <td>68.0</td>\n",
              "      <td>1</td>\n",
              "      <td>174.0</td>\n",
              "      <td>146.0</td>\n",
              "      <td>48.2</td>\n",
              "      <td>20.0</td>\n",
              "      <td>NaN</td>\n",
              "      <td>NaN</td>\n",
              "      <td>NaN</td>\n",
              "      <td>NaN</td>\n",
              "      <td>...</td>\n",
              "      <td>NaN</td>\n",
              "      <td>NaN</td>\n",
              "      <td>NaN</td>\n",
              "      <td>NaN</td>\n",
              "      <td>NaN</td>\n",
              "      <td>NaN</td>\n",
              "      <td>NaN</td>\n",
              "      <td>0</td>\n",
              "      <td>1.0</td>\n",
              "      <td>0.5</td>\n",
              "    </tr>\n",
              "  </tbody>\n",
              "</table>\n",
              "<p>8 rows × 21 columns</p>\n",
              "</div>\n",
              "      <button class=\"colab-df-convert\" onclick=\"convertToInteractive('df-e3d16e43-d1f9-474d-a199-b3917671b71f')\"\n",
              "              title=\"Convert this dataframe to an interactive table.\"\n",
              "              style=\"display:none;\">\n",
              "        \n",
              "  <svg xmlns=\"http://www.w3.org/2000/svg\" height=\"24px\"viewBox=\"0 0 24 24\"\n",
              "       width=\"24px\">\n",
              "    <path d=\"M0 0h24v24H0V0z\" fill=\"none\"/>\n",
              "    <path d=\"M18.56 5.44l.94 2.06.94-2.06 2.06-.94-2.06-.94-.94-2.06-.94 2.06-2.06.94zm-11 1L8.5 8.5l.94-2.06 2.06-.94-2.06-.94L8.5 2.5l-.94 2.06-2.06.94zm10 10l.94 2.06.94-2.06 2.06-.94-2.06-.94-.94-2.06-.94 2.06-2.06.94z\"/><path d=\"M17.41 7.96l-1.37-1.37c-.4-.4-.92-.59-1.43-.59-.52 0-1.04.2-1.43.59L10.3 9.45l-7.72 7.72c-.78.78-.78 2.05 0 2.83L4 21.41c.39.39.9.59 1.41.59.51 0 1.02-.2 1.41-.59l7.78-7.78 2.81-2.81c.8-.78.8-2.07 0-2.86zM5.41 20L4 18.59l7.72-7.72 1.47 1.35L5.41 20z\"/>\n",
              "  </svg>\n",
              "      </button>\n",
              "      \n",
              "  <style>\n",
              "    .colab-df-container {\n",
              "      display:flex;\n",
              "      flex-wrap:wrap;\n",
              "      gap: 12px;\n",
              "    }\n",
              "\n",
              "    .colab-df-convert {\n",
              "      background-color: #E8F0FE;\n",
              "      border: none;\n",
              "      border-radius: 50%;\n",
              "      cursor: pointer;\n",
              "      display: none;\n",
              "      fill: #1967D2;\n",
              "      height: 32px;\n",
              "      padding: 0 0 0 0;\n",
              "      width: 32px;\n",
              "    }\n",
              "\n",
              "    .colab-df-convert:hover {\n",
              "      background-color: #E2EBFA;\n",
              "      box-shadow: 0px 1px 2px rgba(60, 64, 67, 0.3), 0px 1px 3px 1px rgba(60, 64, 67, 0.15);\n",
              "      fill: #174EA6;\n",
              "    }\n",
              "\n",
              "    [theme=dark] .colab-df-convert {\n",
              "      background-color: #3B4455;\n",
              "      fill: #D2E3FC;\n",
              "    }\n",
              "\n",
              "    [theme=dark] .colab-df-convert:hover {\n",
              "      background-color: #434B5C;\n",
              "      box-shadow: 0px 1px 3px 1px rgba(0, 0, 0, 0.15);\n",
              "      filter: drop-shadow(0px 1px 2px rgba(0, 0, 0, 0.3));\n",
              "      fill: #FFFFFF;\n",
              "    }\n",
              "  </style>\n",
              "\n",
              "      <script>\n",
              "        const buttonEl =\n",
              "          document.querySelector('#df-e3d16e43-d1f9-474d-a199-b3917671b71f button.colab-df-convert');\n",
              "        buttonEl.style.display =\n",
              "          google.colab.kernel.accessAllowed ? 'block' : 'none';\n",
              "\n",
              "        async function convertToInteractive(key) {\n",
              "          const element = document.querySelector('#df-e3d16e43-d1f9-474d-a199-b3917671b71f');\n",
              "          const dataTable =\n",
              "            await google.colab.kernel.invokeFunction('convertToInteractive',\n",
              "                                                     [key], {});\n",
              "          if (!dataTable) return;\n",
              "\n",
              "          const docLinkHtml = 'Like what you see? Visit the ' +\n",
              "            '<a target=\"_blank\" href=https://colab.research.google.com/notebooks/data_table.ipynb>data table notebook</a>'\n",
              "            + ' to learn more about interactive tables.';\n",
              "          element.innerHTML = '';\n",
              "          dataTable['output_type'] = 'display_data';\n",
              "          await google.colab.output.renderOutput(dataTable, element);\n",
              "          const docLink = document.createElement('div');\n",
              "          docLink.innerHTML = docLinkHtml;\n",
              "          element.appendChild(docLink);\n",
              "        }\n",
              "      </script>\n",
              "    </div>\n",
              "  </div>\n",
              "  "
            ]
          },
          "metadata": {},
          "execution_count": 12
        }
      ]
    },
    {
      "cell_type": "code",
      "source": [
        "df2 = df.loc[(df['LS+ Biopsy'] != 0.5)] \n",
        "#df2"
      ],
      "metadata": {
        "id": "o88hevdg8ppV"
      },
      "execution_count": 13,
      "outputs": []
    },
    {
      "cell_type": "code",
      "source": [
        "#Drop all rows with NaN ultrasound diagnoses since they're not available.\n",
        "df3 = df2.dropna(subset=['LS+ US'])\n",
        "#df3"
      ],
      "metadata": {
        "id": "a4kc6Fu1_7u-"
      },
      "execution_count": 14,
      "outputs": []
    },
    {
      "cell_type": "code",
      "source": [
        "df3.loc[df3['LS+ US'] == 0.5]"
      ],
      "metadata": {
        "colab": {
          "base_uri": "https://localhost:8080/",
          "height": 217
        },
        "id": "4ajyZ6l91W-r",
        "outputId": "9fa61aae-9fde-453c-b55d-51d8042cb8c5"
      },
      "execution_count": 15,
      "outputs": [
        {
          "output_type": "execute_result",
          "data": {
            "text/plain": [
              "      Age  Sex  Height  Weight   BMI  Obesity Duration   DM  MET Syndrome  \\\n",
              "62   28.7    1   170.8   164.3  56.3              20.0  0.0           0.0   \n",
              "140  50.5    2   170.2   131.1  45.3              11.0  1.0           0.0   \n",
              "397  30.8    1   167.6   128.4  45.7              16.0  1.0           1.0   \n",
              "\n",
              "     HTN  HPL  ...   CHOL   HDL    LDL  VLDL   AST    ALT  NAS  Fibrosis  \\\n",
              "62   1.0  0.0  ...  176.0  55.0  105.0  16.0  35.0   34.0  2.0         0   \n",
              "140  0.0  0.0  ...  153.0  52.0   81.0  20.0  18.0   18.0  0.0         0   \n",
              "397  1.0  1.0  ...  182.0  38.0  111.0  33.0  62.0  112.0  3.0         1   \n",
              "\n",
              "     LS+ US  LS+ Biopsy  \n",
              "62      0.5         1.0  \n",
              "140     0.5         0.0  \n",
              "397     0.5         1.0  \n",
              "\n",
              "[3 rows x 21 columns]"
            ],
            "text/html": [
              "\n",
              "  <div id=\"df-e663d1ee-385c-4c19-a2fa-8085dddaba09\">\n",
              "    <div class=\"colab-df-container\">\n",
              "      <div>\n",
              "<style scoped>\n",
              "    .dataframe tbody tr th:only-of-type {\n",
              "        vertical-align: middle;\n",
              "    }\n",
              "\n",
              "    .dataframe tbody tr th {\n",
              "        vertical-align: top;\n",
              "    }\n",
              "\n",
              "    .dataframe thead th {\n",
              "        text-align: right;\n",
              "    }\n",
              "</style>\n",
              "<table border=\"1\" class=\"dataframe\">\n",
              "  <thead>\n",
              "    <tr style=\"text-align: right;\">\n",
              "      <th></th>\n",
              "      <th>Age</th>\n",
              "      <th>Sex</th>\n",
              "      <th>Height</th>\n",
              "      <th>Weight</th>\n",
              "      <th>BMI</th>\n",
              "      <th>Obesity Duration</th>\n",
              "      <th>DM</th>\n",
              "      <th>MET Syndrome</th>\n",
              "      <th>HTN</th>\n",
              "      <th>HPL</th>\n",
              "      <th>...</th>\n",
              "      <th>CHOL</th>\n",
              "      <th>HDL</th>\n",
              "      <th>LDL</th>\n",
              "      <th>VLDL</th>\n",
              "      <th>AST</th>\n",
              "      <th>ALT</th>\n",
              "      <th>NAS</th>\n",
              "      <th>Fibrosis</th>\n",
              "      <th>LS+ US</th>\n",
              "      <th>LS+ Biopsy</th>\n",
              "    </tr>\n",
              "  </thead>\n",
              "  <tbody>\n",
              "    <tr>\n",
              "      <th>62</th>\n",
              "      <td>28.7</td>\n",
              "      <td>1</td>\n",
              "      <td>170.8</td>\n",
              "      <td>164.3</td>\n",
              "      <td>56.3</td>\n",
              "      <td>20.0</td>\n",
              "      <td>0.0</td>\n",
              "      <td>0.0</td>\n",
              "      <td>1.0</td>\n",
              "      <td>0.0</td>\n",
              "      <td>...</td>\n",
              "      <td>176.0</td>\n",
              "      <td>55.0</td>\n",
              "      <td>105.0</td>\n",
              "      <td>16.0</td>\n",
              "      <td>35.0</td>\n",
              "      <td>34.0</td>\n",
              "      <td>2.0</td>\n",
              "      <td>0</td>\n",
              "      <td>0.5</td>\n",
              "      <td>1.0</td>\n",
              "    </tr>\n",
              "    <tr>\n",
              "      <th>140</th>\n",
              "      <td>50.5</td>\n",
              "      <td>2</td>\n",
              "      <td>170.2</td>\n",
              "      <td>131.1</td>\n",
              "      <td>45.3</td>\n",
              "      <td>11.0</td>\n",
              "      <td>1.0</td>\n",
              "      <td>0.0</td>\n",
              "      <td>0.0</td>\n",
              "      <td>0.0</td>\n",
              "      <td>...</td>\n",
              "      <td>153.0</td>\n",
              "      <td>52.0</td>\n",
              "      <td>81.0</td>\n",
              "      <td>20.0</td>\n",
              "      <td>18.0</td>\n",
              "      <td>18.0</td>\n",
              "      <td>0.0</td>\n",
              "      <td>0</td>\n",
              "      <td>0.5</td>\n",
              "      <td>0.0</td>\n",
              "    </tr>\n",
              "    <tr>\n",
              "      <th>397</th>\n",
              "      <td>30.8</td>\n",
              "      <td>1</td>\n",
              "      <td>167.6</td>\n",
              "      <td>128.4</td>\n",
              "      <td>45.7</td>\n",
              "      <td>16.0</td>\n",
              "      <td>1.0</td>\n",
              "      <td>1.0</td>\n",
              "      <td>1.0</td>\n",
              "      <td>1.0</td>\n",
              "      <td>...</td>\n",
              "      <td>182.0</td>\n",
              "      <td>38.0</td>\n",
              "      <td>111.0</td>\n",
              "      <td>33.0</td>\n",
              "      <td>62.0</td>\n",
              "      <td>112.0</td>\n",
              "      <td>3.0</td>\n",
              "      <td>1</td>\n",
              "      <td>0.5</td>\n",
              "      <td>1.0</td>\n",
              "    </tr>\n",
              "  </tbody>\n",
              "</table>\n",
              "<p>3 rows × 21 columns</p>\n",
              "</div>\n",
              "      <button class=\"colab-df-convert\" onclick=\"convertToInteractive('df-e663d1ee-385c-4c19-a2fa-8085dddaba09')\"\n",
              "              title=\"Convert this dataframe to an interactive table.\"\n",
              "              style=\"display:none;\">\n",
              "        \n",
              "  <svg xmlns=\"http://www.w3.org/2000/svg\" height=\"24px\"viewBox=\"0 0 24 24\"\n",
              "       width=\"24px\">\n",
              "    <path d=\"M0 0h24v24H0V0z\" fill=\"none\"/>\n",
              "    <path d=\"M18.56 5.44l.94 2.06.94-2.06 2.06-.94-2.06-.94-.94-2.06-.94 2.06-2.06.94zm-11 1L8.5 8.5l.94-2.06 2.06-.94-2.06-.94L8.5 2.5l-.94 2.06-2.06.94zm10 10l.94 2.06.94-2.06 2.06-.94-2.06-.94-.94-2.06-.94 2.06-2.06.94z\"/><path d=\"M17.41 7.96l-1.37-1.37c-.4-.4-.92-.59-1.43-.59-.52 0-1.04.2-1.43.59L10.3 9.45l-7.72 7.72c-.78.78-.78 2.05 0 2.83L4 21.41c.39.39.9.59 1.41.59.51 0 1.02-.2 1.41-.59l7.78-7.78 2.81-2.81c.8-.78.8-2.07 0-2.86zM5.41 20L4 18.59l7.72-7.72 1.47 1.35L5.41 20z\"/>\n",
              "  </svg>\n",
              "      </button>\n",
              "      \n",
              "  <style>\n",
              "    .colab-df-container {\n",
              "      display:flex;\n",
              "      flex-wrap:wrap;\n",
              "      gap: 12px;\n",
              "    }\n",
              "\n",
              "    .colab-df-convert {\n",
              "      background-color: #E8F0FE;\n",
              "      border: none;\n",
              "      border-radius: 50%;\n",
              "      cursor: pointer;\n",
              "      display: none;\n",
              "      fill: #1967D2;\n",
              "      height: 32px;\n",
              "      padding: 0 0 0 0;\n",
              "      width: 32px;\n",
              "    }\n",
              "\n",
              "    .colab-df-convert:hover {\n",
              "      background-color: #E2EBFA;\n",
              "      box-shadow: 0px 1px 2px rgba(60, 64, 67, 0.3), 0px 1px 3px 1px rgba(60, 64, 67, 0.15);\n",
              "      fill: #174EA6;\n",
              "    }\n",
              "\n",
              "    [theme=dark] .colab-df-convert {\n",
              "      background-color: #3B4455;\n",
              "      fill: #D2E3FC;\n",
              "    }\n",
              "\n",
              "    [theme=dark] .colab-df-convert:hover {\n",
              "      background-color: #434B5C;\n",
              "      box-shadow: 0px 1px 3px 1px rgba(0, 0, 0, 0.15);\n",
              "      filter: drop-shadow(0px 1px 2px rgba(0, 0, 0, 0.3));\n",
              "      fill: #FFFFFF;\n",
              "    }\n",
              "  </style>\n",
              "\n",
              "      <script>\n",
              "        const buttonEl =\n",
              "          document.querySelector('#df-e663d1ee-385c-4c19-a2fa-8085dddaba09 button.colab-df-convert');\n",
              "        buttonEl.style.display =\n",
              "          google.colab.kernel.accessAllowed ? 'block' : 'none';\n",
              "\n",
              "        async function convertToInteractive(key) {\n",
              "          const element = document.querySelector('#df-e663d1ee-385c-4c19-a2fa-8085dddaba09');\n",
              "          const dataTable =\n",
              "            await google.colab.kernel.invokeFunction('convertToInteractive',\n",
              "                                                     [key], {});\n",
              "          if (!dataTable) return;\n",
              "\n",
              "          const docLinkHtml = 'Like what you see? Visit the ' +\n",
              "            '<a target=\"_blank\" href=https://colab.research.google.com/notebooks/data_table.ipynb>data table notebook</a>'\n",
              "            + ' to learn more about interactive tables.';\n",
              "          element.innerHTML = '';\n",
              "          dataTable['output_type'] = 'display_data';\n",
              "          await google.colab.output.renderOutput(dataTable, element);\n",
              "          const docLink = document.createElement('div');\n",
              "          docLink.innerHTML = docLinkHtml;\n",
              "          element.appendChild(docLink);\n",
              "        }\n",
              "      </script>\n",
              "    </div>\n",
              "  </div>\n",
              "  "
            ]
          },
          "metadata": {},
          "execution_count": 15
        }
      ]
    },
    {
      "cell_type": "code",
      "source": [
        "#Drop patient rows with inconclusive ultrasound diagnoses\n",
        "df4 = df3.loc[(df3['LS+ US'] != 0.5)] \n",
        "df4"
      ],
      "metadata": {
        "colab": {
          "base_uri": "https://localhost:8080/",
          "height": 468
        },
        "id": "GTF05ge7wDHA",
        "outputId": "64822cde-d9c8-4b86-a9e2-478e353178f4"
      },
      "execution_count": 16,
      "outputs": [
        {
          "output_type": "execute_result",
          "data": {
            "text/plain": [
              "      Age  Sex  Height  Weight   BMI  Obesity Duration   DM  MET Syndrome  \\\n",
              "0    61.2    2   162.6   127.2  48.1              35.0  0.0           1.0   \n",
              "1    40.4    2   165.1   137.8  50.5              23.0  1.0           1.0   \n",
              "2    38.5    1   193.0   217.1  58.3              11.0  1.0           1.0   \n",
              "3    65.0    1   161.0   131.0  50.5              20.0  1.0           1.0   \n",
              "4    56.3    2   165.1   124.0  45.5              22.0  0.0           1.0   \n",
              "..    ...  ...     ...     ...   ...               ...  ...           ...   \n",
              "438  45.0    1   186.7   136.0  39.0              15.0  0.0           0.0   \n",
              "439  46.0    2   165.1   121.7  44.6              21.0  1.0           1.0   \n",
              "440  40.0    2   154.9   108.0  45.0              15.0  0.0           0.0   \n",
              "441  37.6    2   167.6   141.1  50.2              20.0  0.0           0.0   \n",
              "442  29.0    2   165.0   146.0  53.6               9.0  0.0           0.0   \n",
              "\n",
              "     HTN  HPL  ...   CHOL   HDL    LDL  VLDL   AST   ALT  NAS  Fibrosis  \\\n",
              "0    1.0  1.0  ...  202.0  50.0  124.0  28.0  22.0  14.0  3.0         0   \n",
              "1    1.0  1.0  ...  213.0  49.0  143.0  21.0  50.0  78.0  6.0         0   \n",
              "2    1.0  0.0  ...  146.0  51.0   78.0  17.0  30.0  35.0  3.0         1   \n",
              "3    1.0  0.0  ...  191.0  55.0  113.0   NaN  21.0  26.0  1.0         0   \n",
              "4    1.0  0.0  ...  134.0  46.0   57.0  31.0  12.0  15.0  1.0         0   \n",
              "..   ...  ...  ...    ...   ...    ...   ...   ...   ...  ...       ...   \n",
              "438  1.0  1.0  ...  164.0  65.0   83.0  16.0  30.0  47.0  1.0         0   \n",
              "439  1.0  1.0  ...  280.0  68.0  173.0  39.0  34.0  34.0  0.0         0   \n",
              "440  0.0  1.0  ...  217.0  53.0  153.0  11.0  27.0  19.0  0.0         0   \n",
              "441  0.0  0.0  ...  153.0  64.0   80.0   9.0  14.0  14.0  0.0         0   \n",
              "442  0.0  0.0  ...  134.0  44.0   78.0  12.0  17.0  11.0  0.0         0   \n",
              "\n",
              "     LS+ US  LS+ Biopsy  \n",
              "0       1.0         1.0  \n",
              "1       0.0         1.0  \n",
              "2       1.0         1.0  \n",
              "3       1.0         1.0  \n",
              "4       0.0         1.0  \n",
              "..      ...         ...  \n",
              "438     1.0         1.0  \n",
              "439     0.0         0.0  \n",
              "440     0.0         0.0  \n",
              "441     1.0         0.0  \n",
              "442     1.0         0.0  \n",
              "\n",
              "[410 rows x 21 columns]"
            ],
            "text/html": [
              "\n",
              "  <div id=\"df-32ef87f9-c2c6-4397-a9a3-0078e9287973\">\n",
              "    <div class=\"colab-df-container\">\n",
              "      <div>\n",
              "<style scoped>\n",
              "    .dataframe tbody tr th:only-of-type {\n",
              "        vertical-align: middle;\n",
              "    }\n",
              "\n",
              "    .dataframe tbody tr th {\n",
              "        vertical-align: top;\n",
              "    }\n",
              "\n",
              "    .dataframe thead th {\n",
              "        text-align: right;\n",
              "    }\n",
              "</style>\n",
              "<table border=\"1\" class=\"dataframe\">\n",
              "  <thead>\n",
              "    <tr style=\"text-align: right;\">\n",
              "      <th></th>\n",
              "      <th>Age</th>\n",
              "      <th>Sex</th>\n",
              "      <th>Height</th>\n",
              "      <th>Weight</th>\n",
              "      <th>BMI</th>\n",
              "      <th>Obesity Duration</th>\n",
              "      <th>DM</th>\n",
              "      <th>MET Syndrome</th>\n",
              "      <th>HTN</th>\n",
              "      <th>HPL</th>\n",
              "      <th>...</th>\n",
              "      <th>CHOL</th>\n",
              "      <th>HDL</th>\n",
              "      <th>LDL</th>\n",
              "      <th>VLDL</th>\n",
              "      <th>AST</th>\n",
              "      <th>ALT</th>\n",
              "      <th>NAS</th>\n",
              "      <th>Fibrosis</th>\n",
              "      <th>LS+ US</th>\n",
              "      <th>LS+ Biopsy</th>\n",
              "    </tr>\n",
              "  </thead>\n",
              "  <tbody>\n",
              "    <tr>\n",
              "      <th>0</th>\n",
              "      <td>61.2</td>\n",
              "      <td>2</td>\n",
              "      <td>162.6</td>\n",
              "      <td>127.2</td>\n",
              "      <td>48.1</td>\n",
              "      <td>35.0</td>\n",
              "      <td>0.0</td>\n",
              "      <td>1.0</td>\n",
              "      <td>1.0</td>\n",
              "      <td>1.0</td>\n",
              "      <td>...</td>\n",
              "      <td>202.0</td>\n",
              "      <td>50.0</td>\n",
              "      <td>124.0</td>\n",
              "      <td>28.0</td>\n",
              "      <td>22.0</td>\n",
              "      <td>14.0</td>\n",
              "      <td>3.0</td>\n",
              "      <td>0</td>\n",
              "      <td>1.0</td>\n",
              "      <td>1.0</td>\n",
              "    </tr>\n",
              "    <tr>\n",
              "      <th>1</th>\n",
              "      <td>40.4</td>\n",
              "      <td>2</td>\n",
              "      <td>165.1</td>\n",
              "      <td>137.8</td>\n",
              "      <td>50.5</td>\n",
              "      <td>23.0</td>\n",
              "      <td>1.0</td>\n",
              "      <td>1.0</td>\n",
              "      <td>1.0</td>\n",
              "      <td>1.0</td>\n",
              "      <td>...</td>\n",
              "      <td>213.0</td>\n",
              "      <td>49.0</td>\n",
              "      <td>143.0</td>\n",
              "      <td>21.0</td>\n",
              "      <td>50.0</td>\n",
              "      <td>78.0</td>\n",
              "      <td>6.0</td>\n",
              "      <td>0</td>\n",
              "      <td>0.0</td>\n",
              "      <td>1.0</td>\n",
              "    </tr>\n",
              "    <tr>\n",
              "      <th>2</th>\n",
              "      <td>38.5</td>\n",
              "      <td>1</td>\n",
              "      <td>193.0</td>\n",
              "      <td>217.1</td>\n",
              "      <td>58.3</td>\n",
              "      <td>11.0</td>\n",
              "      <td>1.0</td>\n",
              "      <td>1.0</td>\n",
              "      <td>1.0</td>\n",
              "      <td>0.0</td>\n",
              "      <td>...</td>\n",
              "      <td>146.0</td>\n",
              "      <td>51.0</td>\n",
              "      <td>78.0</td>\n",
              "      <td>17.0</td>\n",
              "      <td>30.0</td>\n",
              "      <td>35.0</td>\n",
              "      <td>3.0</td>\n",
              "      <td>1</td>\n",
              "      <td>1.0</td>\n",
              "      <td>1.0</td>\n",
              "    </tr>\n",
              "    <tr>\n",
              "      <th>3</th>\n",
              "      <td>65.0</td>\n",
              "      <td>1</td>\n",
              "      <td>161.0</td>\n",
              "      <td>131.0</td>\n",
              "      <td>50.5</td>\n",
              "      <td>20.0</td>\n",
              "      <td>1.0</td>\n",
              "      <td>1.0</td>\n",
              "      <td>1.0</td>\n",
              "      <td>0.0</td>\n",
              "      <td>...</td>\n",
              "      <td>191.0</td>\n",
              "      <td>55.0</td>\n",
              "      <td>113.0</td>\n",
              "      <td>NaN</td>\n",
              "      <td>21.0</td>\n",
              "      <td>26.0</td>\n",
              "      <td>1.0</td>\n",
              "      <td>0</td>\n",
              "      <td>1.0</td>\n",
              "      <td>1.0</td>\n",
              "    </tr>\n",
              "    <tr>\n",
              "      <th>4</th>\n",
              "      <td>56.3</td>\n",
              "      <td>2</td>\n",
              "      <td>165.1</td>\n",
              "      <td>124.0</td>\n",
              "      <td>45.5</td>\n",
              "      <td>22.0</td>\n",
              "      <td>0.0</td>\n",
              "      <td>1.0</td>\n",
              "      <td>1.0</td>\n",
              "      <td>0.0</td>\n",
              "      <td>...</td>\n",
              "      <td>134.0</td>\n",
              "      <td>46.0</td>\n",
              "      <td>57.0</td>\n",
              "      <td>31.0</td>\n",
              "      <td>12.0</td>\n",
              "      <td>15.0</td>\n",
              "      <td>1.0</td>\n",
              "      <td>0</td>\n",
              "      <td>0.0</td>\n",
              "      <td>1.0</td>\n",
              "    </tr>\n",
              "    <tr>\n",
              "      <th>...</th>\n",
              "      <td>...</td>\n",
              "      <td>...</td>\n",
              "      <td>...</td>\n",
              "      <td>...</td>\n",
              "      <td>...</td>\n",
              "      <td>...</td>\n",
              "      <td>...</td>\n",
              "      <td>...</td>\n",
              "      <td>...</td>\n",
              "      <td>...</td>\n",
              "      <td>...</td>\n",
              "      <td>...</td>\n",
              "      <td>...</td>\n",
              "      <td>...</td>\n",
              "      <td>...</td>\n",
              "      <td>...</td>\n",
              "      <td>...</td>\n",
              "      <td>...</td>\n",
              "      <td>...</td>\n",
              "      <td>...</td>\n",
              "      <td>...</td>\n",
              "    </tr>\n",
              "    <tr>\n",
              "      <th>438</th>\n",
              "      <td>45.0</td>\n",
              "      <td>1</td>\n",
              "      <td>186.7</td>\n",
              "      <td>136.0</td>\n",
              "      <td>39.0</td>\n",
              "      <td>15.0</td>\n",
              "      <td>0.0</td>\n",
              "      <td>0.0</td>\n",
              "      <td>1.0</td>\n",
              "      <td>1.0</td>\n",
              "      <td>...</td>\n",
              "      <td>164.0</td>\n",
              "      <td>65.0</td>\n",
              "      <td>83.0</td>\n",
              "      <td>16.0</td>\n",
              "      <td>30.0</td>\n",
              "      <td>47.0</td>\n",
              "      <td>1.0</td>\n",
              "      <td>0</td>\n",
              "      <td>1.0</td>\n",
              "      <td>1.0</td>\n",
              "    </tr>\n",
              "    <tr>\n",
              "      <th>439</th>\n",
              "      <td>46.0</td>\n",
              "      <td>2</td>\n",
              "      <td>165.1</td>\n",
              "      <td>121.7</td>\n",
              "      <td>44.6</td>\n",
              "      <td>21.0</td>\n",
              "      <td>1.0</td>\n",
              "      <td>1.0</td>\n",
              "      <td>1.0</td>\n",
              "      <td>1.0</td>\n",
              "      <td>...</td>\n",
              "      <td>280.0</td>\n",
              "      <td>68.0</td>\n",
              "      <td>173.0</td>\n",
              "      <td>39.0</td>\n",
              "      <td>34.0</td>\n",
              "      <td>34.0</td>\n",
              "      <td>0.0</td>\n",
              "      <td>0</td>\n",
              "      <td>0.0</td>\n",
              "      <td>0.0</td>\n",
              "    </tr>\n",
              "    <tr>\n",
              "      <th>440</th>\n",
              "      <td>40.0</td>\n",
              "      <td>2</td>\n",
              "      <td>154.9</td>\n",
              "      <td>108.0</td>\n",
              "      <td>45.0</td>\n",
              "      <td>15.0</td>\n",
              "      <td>0.0</td>\n",
              "      <td>0.0</td>\n",
              "      <td>0.0</td>\n",
              "      <td>1.0</td>\n",
              "      <td>...</td>\n",
              "      <td>217.0</td>\n",
              "      <td>53.0</td>\n",
              "      <td>153.0</td>\n",
              "      <td>11.0</td>\n",
              "      <td>27.0</td>\n",
              "      <td>19.0</td>\n",
              "      <td>0.0</td>\n",
              "      <td>0</td>\n",
              "      <td>0.0</td>\n",
              "      <td>0.0</td>\n",
              "    </tr>\n",
              "    <tr>\n",
              "      <th>441</th>\n",
              "      <td>37.6</td>\n",
              "      <td>2</td>\n",
              "      <td>167.6</td>\n",
              "      <td>141.1</td>\n",
              "      <td>50.2</td>\n",
              "      <td>20.0</td>\n",
              "      <td>0.0</td>\n",
              "      <td>0.0</td>\n",
              "      <td>0.0</td>\n",
              "      <td>0.0</td>\n",
              "      <td>...</td>\n",
              "      <td>153.0</td>\n",
              "      <td>64.0</td>\n",
              "      <td>80.0</td>\n",
              "      <td>9.0</td>\n",
              "      <td>14.0</td>\n",
              "      <td>14.0</td>\n",
              "      <td>0.0</td>\n",
              "      <td>0</td>\n",
              "      <td>1.0</td>\n",
              "      <td>0.0</td>\n",
              "    </tr>\n",
              "    <tr>\n",
              "      <th>442</th>\n",
              "      <td>29.0</td>\n",
              "      <td>2</td>\n",
              "      <td>165.0</td>\n",
              "      <td>146.0</td>\n",
              "      <td>53.6</td>\n",
              "      <td>9.0</td>\n",
              "      <td>0.0</td>\n",
              "      <td>0.0</td>\n",
              "      <td>0.0</td>\n",
              "      <td>0.0</td>\n",
              "      <td>...</td>\n",
              "      <td>134.0</td>\n",
              "      <td>44.0</td>\n",
              "      <td>78.0</td>\n",
              "      <td>12.0</td>\n",
              "      <td>17.0</td>\n",
              "      <td>11.0</td>\n",
              "      <td>0.0</td>\n",
              "      <td>0</td>\n",
              "      <td>1.0</td>\n",
              "      <td>0.0</td>\n",
              "    </tr>\n",
              "  </tbody>\n",
              "</table>\n",
              "<p>410 rows × 21 columns</p>\n",
              "</div>\n",
              "      <button class=\"colab-df-convert\" onclick=\"convertToInteractive('df-32ef87f9-c2c6-4397-a9a3-0078e9287973')\"\n",
              "              title=\"Convert this dataframe to an interactive table.\"\n",
              "              style=\"display:none;\">\n",
              "        \n",
              "  <svg xmlns=\"http://www.w3.org/2000/svg\" height=\"24px\"viewBox=\"0 0 24 24\"\n",
              "       width=\"24px\">\n",
              "    <path d=\"M0 0h24v24H0V0z\" fill=\"none\"/>\n",
              "    <path d=\"M18.56 5.44l.94 2.06.94-2.06 2.06-.94-2.06-.94-.94-2.06-.94 2.06-2.06.94zm-11 1L8.5 8.5l.94-2.06 2.06-.94-2.06-.94L8.5 2.5l-.94 2.06-2.06.94zm10 10l.94 2.06.94-2.06 2.06-.94-2.06-.94-.94-2.06-.94 2.06-2.06.94z\"/><path d=\"M17.41 7.96l-1.37-1.37c-.4-.4-.92-.59-1.43-.59-.52 0-1.04.2-1.43.59L10.3 9.45l-7.72 7.72c-.78.78-.78 2.05 0 2.83L4 21.41c.39.39.9.59 1.41.59.51 0 1.02-.2 1.41-.59l7.78-7.78 2.81-2.81c.8-.78.8-2.07 0-2.86zM5.41 20L4 18.59l7.72-7.72 1.47 1.35L5.41 20z\"/>\n",
              "  </svg>\n",
              "      </button>\n",
              "      \n",
              "  <style>\n",
              "    .colab-df-container {\n",
              "      display:flex;\n",
              "      flex-wrap:wrap;\n",
              "      gap: 12px;\n",
              "    }\n",
              "\n",
              "    .colab-df-convert {\n",
              "      background-color: #E8F0FE;\n",
              "      border: none;\n",
              "      border-radius: 50%;\n",
              "      cursor: pointer;\n",
              "      display: none;\n",
              "      fill: #1967D2;\n",
              "      height: 32px;\n",
              "      padding: 0 0 0 0;\n",
              "      width: 32px;\n",
              "    }\n",
              "\n",
              "    .colab-df-convert:hover {\n",
              "      background-color: #E2EBFA;\n",
              "      box-shadow: 0px 1px 2px rgba(60, 64, 67, 0.3), 0px 1px 3px 1px rgba(60, 64, 67, 0.15);\n",
              "      fill: #174EA6;\n",
              "    }\n",
              "\n",
              "    [theme=dark] .colab-df-convert {\n",
              "      background-color: #3B4455;\n",
              "      fill: #D2E3FC;\n",
              "    }\n",
              "\n",
              "    [theme=dark] .colab-df-convert:hover {\n",
              "      background-color: #434B5C;\n",
              "      box-shadow: 0px 1px 3px 1px rgba(0, 0, 0, 0.15);\n",
              "      filter: drop-shadow(0px 1px 2px rgba(0, 0, 0, 0.3));\n",
              "      fill: #FFFFFF;\n",
              "    }\n",
              "  </style>\n",
              "\n",
              "      <script>\n",
              "        const buttonEl =\n",
              "          document.querySelector('#df-32ef87f9-c2c6-4397-a9a3-0078e9287973 button.colab-df-convert');\n",
              "        buttonEl.style.display =\n",
              "          google.colab.kernel.accessAllowed ? 'block' : 'none';\n",
              "\n",
              "        async function convertToInteractive(key) {\n",
              "          const element = document.querySelector('#df-32ef87f9-c2c6-4397-a9a3-0078e9287973');\n",
              "          const dataTable =\n",
              "            await google.colab.kernel.invokeFunction('convertToInteractive',\n",
              "                                                     [key], {});\n",
              "          if (!dataTable) return;\n",
              "\n",
              "          const docLinkHtml = 'Like what you see? Visit the ' +\n",
              "            '<a target=\"_blank\" href=https://colab.research.google.com/notebooks/data_table.ipynb>data table notebook</a>'\n",
              "            + ' to learn more about interactive tables.';\n",
              "          element.innerHTML = '';\n",
              "          dataTable['output_type'] = 'display_data';\n",
              "          await google.colab.output.renderOutput(dataTable, element);\n",
              "          const docLink = document.createElement('div');\n",
              "          docLink.innerHTML = docLinkHtml;\n",
              "          element.appendChild(docLink);\n",
              "        }\n",
              "      </script>\n",
              "    </div>\n",
              "  </div>\n",
              "  "
            ]
          },
          "metadata": {},
          "execution_count": 16
        }
      ]
    },
    {
      "cell_type": "code",
      "source": [
        "df4.to_csv('/content/startingData/SteatosisDataset_ConfusionMatrix.csv')"
      ],
      "metadata": {
        "id": "Xgp-ivhnjdwm"
      },
      "execution_count": 17,
      "outputs": []
    },
    {
      "cell_type": "code",
      "source": [
        "df4.isnull().sum()"
      ],
      "metadata": {
        "colab": {
          "base_uri": "https://localhost:8080/"
        },
        "id": "g_05obJOHYCJ",
        "outputId": "0ecded45-5337-4455-e051-938bf9ee0843"
      },
      "execution_count": 18,
      "outputs": [
        {
          "output_type": "execute_result",
          "data": {
            "text/plain": [
              "Age                  0\n",
              "Sex                  0\n",
              "Height               0\n",
              "Weight               0\n",
              "BMI                  0\n",
              "Obesity Duration     6\n",
              "DM                   0\n",
              "MET Syndrome         0\n",
              "HTN                  1\n",
              "HPL                  0\n",
              "TG                  23\n",
              "CHOL                23\n",
              "HDL                 23\n",
              "LDL                 38\n",
              "VLDL                40\n",
              "AST                  3\n",
              "ALT                  3\n",
              "NAS                 15\n",
              "Fibrosis             0\n",
              "LS+ US               0\n",
              "LS+ Biopsy           0\n",
              "dtype: int64"
            ]
          },
          "metadata": {},
          "execution_count": 18
        }
      ]
    },
    {
      "cell_type": "code",
      "source": [
        "#Create a Confusion Matrix with Biopsy and Ultrasound Results\n",
        "confusionSteatosisMatrix = pd.crosstab(df4['LS+ US'], df4['LS+ Biopsy'])\n",
        "#conventionalOrder = ['Steatosis', 'No Steatosis']\n",
        "#confusionMatrix = confusionMatrix.reindex(index=conventionalOrder, columns=conventionalOrder)\n",
        "print(confusionSteatosisMatrix)\n",
        "plt.savefig(\"/content/results/Table4.pdf\")"
      ],
      "metadata": {
        "colab": {
          "base_uri": "https://localhost:8080/",
          "height": 106
        },
        "id": "d0EIYwd5xOyj",
        "outputId": "0f1279f5-8c71-4269-e7b0-d9215646716a"
      },
      "execution_count": 19,
      "outputs": [
        {
          "output_type": "stream",
          "name": "stdout",
          "text": [
            "LS+ Biopsy  0.0  1.0\n",
            "LS+ US              \n",
            "0.0          81   40\n",
            "1.0          38  251\n"
          ]
        },
        {
          "output_type": "display_data",
          "data": {
            "text/plain": [
              "<Figure size 432x288 with 0 Axes>"
            ]
          },
          "metadata": {}
        }
      ]
    },
    {
      "cell_type": "code",
      "source": [
        "#Generate confusion matrix with margins (count) for probability matrix\n",
        "countSteatosisMatrix = pd.crosstab(df4['LS+ US'], df4['LS+ Biopsy'],margins=True)\n",
        "print(countSteatosisMatrix)"
      ],
      "metadata": {
        "colab": {
          "base_uri": "https://localhost:8080/"
        },
        "id": "NVYQX5sDeF7Y",
        "outputId": "67e553d8-76b5-41e4-cd55-7577aa0bc5dc"
      },
      "execution_count": 20,
      "outputs": [
        {
          "output_type": "stream",
          "name": "stdout",
          "text": [
            "LS+ Biopsy  0.0  1.0  All\n",
            "LS+ US                   \n",
            "0.0          81   40  121\n",
            "1.0          38  251  289\n",
            "All         119  291  410\n"
          ]
        }
      ]
    },
    {
      "cell_type": "code",
      "source": [
        "#make a copy of countSteatosisMatrix\n",
        "countSteatosisMatrix_copy = countSteatosisMatrix.copy()\n",
        "\n",
        "#define number of rows and columns in countSteatosisMatrix\n",
        "numberOfRows = len(countSteatosisMatrix_copy.index)\n",
        "numberOfColumns = len(countSteatosisMatrix_copy)\n",
        "\n",
        "#define total number of patients in countSteatosisMatrix\n",
        "totalnumberOfPatients=countSteatosisMatrix.iloc[len(countSteatosisMatrix.index) - 1,len(countSteatosisMatrix) - 1]\n",
        "\n",
        "#loop start --------------------------------------------------------------------\n",
        "#create a for loop for each cell in countSteatosisMatrix_copy\n",
        "for rowIndex in range(0,numberOfRows):\n",
        "  for columnIndex in range(0,numberOfColumns):\n",
        "    \n",
        "    #for each cell in the DataFrame2 define it by the corresponding cell in Dataframe and divide it by total number of patients\n",
        "    countSteatosisMatrix_copy.iloc[rowIndex,columnIndex] = countSteatosisMatrix.iloc[rowIndex,columnIndex]/totalnumberOfPatients\n",
        "#loop end ----------------------------------------------------------------------\n",
        "\n",
        "#print countSteatosisMatrix_copy Probability Matrix\n",
        "print(countSteatosisMatrix_copy)\n",
        "plt.savefig(\"/content/results/Table6.pdf\")"
      ],
      "metadata": {
        "colab": {
          "base_uri": "https://localhost:8080/",
          "height": 124
        },
        "id": "V4s19_XqRITC",
        "outputId": "3a0546ea-4bdc-44ab-85f7-2739b4fd7e8d"
      },
      "execution_count": 21,
      "outputs": [
        {
          "output_type": "stream",
          "name": "stdout",
          "text": [
            "LS+ Biopsy       0.0       1.0       All\n",
            "LS+ US                                  \n",
            "0.0         0.197561  0.097561  0.295122\n",
            "1.0         0.092683  0.612195  0.704878\n",
            "All         0.290244  0.709756  1.000000\n"
          ]
        },
        {
          "output_type": "display_data",
          "data": {
            "text/plain": [
              "<Figure size 432x288 with 0 Axes>"
            ]
          },
          "metadata": {}
        }
      ]
    },
    {
      "cell_type": "code",
      "source": [
        "def confusionMatrixMetrics(confusionMatrix):\n",
        "   \"\"\"\n",
        "   Calculate and return a Pandas DataFrame with various metrics from a given confusion matrix.\n",
        "\n",
        "   Args:\n",
        "    confusionMatrix (pandas.DataFrame): A confusion matrix of actual and predicted outcomes.\n",
        "   \"\"\"\n",
        "   # Save the True/False Positive/Negative values from the input confusion matrix.\n",
        "   TN = confusionMatrix.iloc[0][0]\n",
        "   FN = confusionMatrix.iloc[0][1] \n",
        "   TP = confusionMatrix.iloc[1][1]\n",
        "   FP = confusionMatrix.iloc[1][0]\n",
        "\n",
        "   # Calculate various metrics.\n",
        "   Population = TN+FN+TP+FP\n",
        "   Prevalence = (TP+FP) / Population\n",
        "   PPV = TP / (TP+FP)\n",
        "   NPV = TN / (TN+FN)\n",
        "   Sensitivity = TP / (TP+FN)\n",
        "   Specificity = TN / (TN+FP) \n",
        "   FPR = FP / (TN+FP)\n",
        "   FNR = FN / (TP+FN)\n",
        "\n",
        "   # Create a new DataFrame storing to store the metrics.\n",
        "   df = pd.DataFrame({'Metric':\n",
        "                      ['TP', 'TN', 'FP', 'FN',\n",
        "                       'Prevalence', 'PPV', 'NPV',\n",
        "                       'Sensitivity', 'Specificity',\n",
        "                       'FPR', 'FNR'],\n",
        "                      'Value':\n",
        "                      [TP, TN, FP, FN,\n",
        "                       Prevalence, PPV, NPV,\n",
        "                       Sensitivity, Specificity,\n",
        "                       FPR, FNR]})\n",
        "   df = df.set_index('Metric')\n",
        "   \n",
        "   return (df)"
      ],
      "metadata": {
        "id": "6VDVI2BoD5lr"
      },
      "execution_count": 22,
      "outputs": []
    },
    {
      "cell_type": "code",
      "source": [
        "print(confusionMatrixMetrics(confusionSteatosisMatrix))\n",
        "plt.savefig(\"/content/results/Table5.pdf\")"
      ],
      "metadata": {
        "colab": {
          "base_uri": "https://localhost:8080/",
          "height": 267
        },
        "id": "AC_VU4efE1c3",
        "outputId": "75b2cbbe-d87b-4bdd-adc2-06fa38034529"
      },
      "execution_count": 23,
      "outputs": [
        {
          "output_type": "stream",
          "name": "stdout",
          "text": [
            "                  Value\n",
            "Metric                 \n",
            "TP           251.000000\n",
            "TN            81.000000\n",
            "FP            38.000000\n",
            "FN            40.000000\n",
            "Prevalence     0.704878\n",
            "PPV            0.868512\n",
            "NPV            0.669421\n",
            "Sensitivity    0.862543\n",
            "Specificity    0.680672\n",
            "FPR            0.319328\n",
            "FNR            0.137457\n"
          ]
        },
        {
          "output_type": "display_data",
          "data": {
            "text/plain": [
              "<Figure size 432x288 with 0 Axes>"
            ]
          },
          "metadata": {}
        }
      ]
    },
    {
      "cell_type": "code",
      "source": [
        "#Drop rest of NaN values in df4 to create new cleaned dataframe dfCleaned\n",
        "dfCleaned=df4.dropna(how='any')\n",
        "dfCleaned"
      ],
      "metadata": {
        "colab": {
          "base_uri": "https://localhost:8080/",
          "height": 468
        },
        "id": "5PwisUQiJs_n",
        "outputId": "4bb55499-d2c8-4ebd-d4b8-be1ecbf071a2"
      },
      "execution_count": 24,
      "outputs": [
        {
          "output_type": "execute_result",
          "data": {
            "text/plain": [
              "      Age  Sex  Height  Weight   BMI  Obesity Duration   DM  MET Syndrome  \\\n",
              "0    61.2    2   162.6   127.2  48.1              35.0  0.0           1.0   \n",
              "1    40.4    2   165.1   137.8  50.5              23.0  1.0           1.0   \n",
              "2    38.5    1   193.0   217.1  58.3              11.0  1.0           1.0   \n",
              "4    56.3    2   165.1   124.0  45.5              22.0  0.0           1.0   \n",
              "5    69.0    2   165.1   117.6  43.2              24.0  1.0           1.0   \n",
              "..    ...  ...     ...     ...   ...               ...  ...           ...   \n",
              "438  45.0    1   186.7   136.0  39.0              15.0  0.0           0.0   \n",
              "439  46.0    2   165.1   121.7  44.6              21.0  1.0           1.0   \n",
              "440  40.0    2   154.9   108.0  45.0              15.0  0.0           0.0   \n",
              "441  37.6    2   167.6   141.1  50.2              20.0  0.0           0.0   \n",
              "442  29.0    2   165.0   146.0  53.6               9.0  0.0           0.0   \n",
              "\n",
              "     HTN  HPL  ...   CHOL   HDL    LDL  VLDL   AST   ALT  NAS  Fibrosis  \\\n",
              "0    1.0  1.0  ...  202.0  50.0  124.0  28.0  22.0  14.0  3.0         0   \n",
              "1    1.0  1.0  ...  213.0  49.0  143.0  21.0  50.0  78.0  6.0         0   \n",
              "2    1.0  0.0  ...  146.0  51.0   78.0  17.0  30.0  35.0  3.0         1   \n",
              "4    1.0  0.0  ...  134.0  46.0   57.0  31.0  12.0  15.0  1.0         0   \n",
              "5    1.0  1.0  ...  169.0  43.0   93.0  33.0  18.0  19.0  0.0         0   \n",
              "..   ...  ...  ...    ...   ...    ...   ...   ...   ...  ...       ...   \n",
              "438  1.0  1.0  ...  164.0  65.0   83.0  16.0  30.0  47.0  1.0         0   \n",
              "439  1.0  1.0  ...  280.0  68.0  173.0  39.0  34.0  34.0  0.0         0   \n",
              "440  0.0  1.0  ...  217.0  53.0  153.0  11.0  27.0  19.0  0.0         0   \n",
              "441  0.0  0.0  ...  153.0  64.0   80.0   9.0  14.0  14.0  0.0         0   \n",
              "442  0.0  0.0  ...  134.0  44.0   78.0  12.0  17.0  11.0  0.0         0   \n",
              "\n",
              "     LS+ US  LS+ Biopsy  \n",
              "0       1.0         1.0  \n",
              "1       0.0         1.0  \n",
              "2       1.0         1.0  \n",
              "4       0.0         1.0  \n",
              "5       0.0         0.0  \n",
              "..      ...         ...  \n",
              "438     1.0         1.0  \n",
              "439     0.0         0.0  \n",
              "440     0.0         0.0  \n",
              "441     1.0         0.0  \n",
              "442     1.0         0.0  \n",
              "\n",
              "[350 rows x 21 columns]"
            ],
            "text/html": [
              "\n",
              "  <div id=\"df-ed8a9e1e-112a-4827-a3bc-8968b8b4df56\">\n",
              "    <div class=\"colab-df-container\">\n",
              "      <div>\n",
              "<style scoped>\n",
              "    .dataframe tbody tr th:only-of-type {\n",
              "        vertical-align: middle;\n",
              "    }\n",
              "\n",
              "    .dataframe tbody tr th {\n",
              "        vertical-align: top;\n",
              "    }\n",
              "\n",
              "    .dataframe thead th {\n",
              "        text-align: right;\n",
              "    }\n",
              "</style>\n",
              "<table border=\"1\" class=\"dataframe\">\n",
              "  <thead>\n",
              "    <tr style=\"text-align: right;\">\n",
              "      <th></th>\n",
              "      <th>Age</th>\n",
              "      <th>Sex</th>\n",
              "      <th>Height</th>\n",
              "      <th>Weight</th>\n",
              "      <th>BMI</th>\n",
              "      <th>Obesity Duration</th>\n",
              "      <th>DM</th>\n",
              "      <th>MET Syndrome</th>\n",
              "      <th>HTN</th>\n",
              "      <th>HPL</th>\n",
              "      <th>...</th>\n",
              "      <th>CHOL</th>\n",
              "      <th>HDL</th>\n",
              "      <th>LDL</th>\n",
              "      <th>VLDL</th>\n",
              "      <th>AST</th>\n",
              "      <th>ALT</th>\n",
              "      <th>NAS</th>\n",
              "      <th>Fibrosis</th>\n",
              "      <th>LS+ US</th>\n",
              "      <th>LS+ Biopsy</th>\n",
              "    </tr>\n",
              "  </thead>\n",
              "  <tbody>\n",
              "    <tr>\n",
              "      <th>0</th>\n",
              "      <td>61.2</td>\n",
              "      <td>2</td>\n",
              "      <td>162.6</td>\n",
              "      <td>127.2</td>\n",
              "      <td>48.1</td>\n",
              "      <td>35.0</td>\n",
              "      <td>0.0</td>\n",
              "      <td>1.0</td>\n",
              "      <td>1.0</td>\n",
              "      <td>1.0</td>\n",
              "      <td>...</td>\n",
              "      <td>202.0</td>\n",
              "      <td>50.0</td>\n",
              "      <td>124.0</td>\n",
              "      <td>28.0</td>\n",
              "      <td>22.0</td>\n",
              "      <td>14.0</td>\n",
              "      <td>3.0</td>\n",
              "      <td>0</td>\n",
              "      <td>1.0</td>\n",
              "      <td>1.0</td>\n",
              "    </tr>\n",
              "    <tr>\n",
              "      <th>1</th>\n",
              "      <td>40.4</td>\n",
              "      <td>2</td>\n",
              "      <td>165.1</td>\n",
              "      <td>137.8</td>\n",
              "      <td>50.5</td>\n",
              "      <td>23.0</td>\n",
              "      <td>1.0</td>\n",
              "      <td>1.0</td>\n",
              "      <td>1.0</td>\n",
              "      <td>1.0</td>\n",
              "      <td>...</td>\n",
              "      <td>213.0</td>\n",
              "      <td>49.0</td>\n",
              "      <td>143.0</td>\n",
              "      <td>21.0</td>\n",
              "      <td>50.0</td>\n",
              "      <td>78.0</td>\n",
              "      <td>6.0</td>\n",
              "      <td>0</td>\n",
              "      <td>0.0</td>\n",
              "      <td>1.0</td>\n",
              "    </tr>\n",
              "    <tr>\n",
              "      <th>2</th>\n",
              "      <td>38.5</td>\n",
              "      <td>1</td>\n",
              "      <td>193.0</td>\n",
              "      <td>217.1</td>\n",
              "      <td>58.3</td>\n",
              "      <td>11.0</td>\n",
              "      <td>1.0</td>\n",
              "      <td>1.0</td>\n",
              "      <td>1.0</td>\n",
              "      <td>0.0</td>\n",
              "      <td>...</td>\n",
              "      <td>146.0</td>\n",
              "      <td>51.0</td>\n",
              "      <td>78.0</td>\n",
              "      <td>17.0</td>\n",
              "      <td>30.0</td>\n",
              "      <td>35.0</td>\n",
              "      <td>3.0</td>\n",
              "      <td>1</td>\n",
              "      <td>1.0</td>\n",
              "      <td>1.0</td>\n",
              "    </tr>\n",
              "    <tr>\n",
              "      <th>4</th>\n",
              "      <td>56.3</td>\n",
              "      <td>2</td>\n",
              "      <td>165.1</td>\n",
              "      <td>124.0</td>\n",
              "      <td>45.5</td>\n",
              "      <td>22.0</td>\n",
              "      <td>0.0</td>\n",
              "      <td>1.0</td>\n",
              "      <td>1.0</td>\n",
              "      <td>0.0</td>\n",
              "      <td>...</td>\n",
              "      <td>134.0</td>\n",
              "      <td>46.0</td>\n",
              "      <td>57.0</td>\n",
              "      <td>31.0</td>\n",
              "      <td>12.0</td>\n",
              "      <td>15.0</td>\n",
              "      <td>1.0</td>\n",
              "      <td>0</td>\n",
              "      <td>0.0</td>\n",
              "      <td>1.0</td>\n",
              "    </tr>\n",
              "    <tr>\n",
              "      <th>5</th>\n",
              "      <td>69.0</td>\n",
              "      <td>2</td>\n",
              "      <td>165.1</td>\n",
              "      <td>117.6</td>\n",
              "      <td>43.2</td>\n",
              "      <td>24.0</td>\n",
              "      <td>1.0</td>\n",
              "      <td>1.0</td>\n",
              "      <td>1.0</td>\n",
              "      <td>1.0</td>\n",
              "      <td>...</td>\n",
              "      <td>169.0</td>\n",
              "      <td>43.0</td>\n",
              "      <td>93.0</td>\n",
              "      <td>33.0</td>\n",
              "      <td>18.0</td>\n",
              "      <td>19.0</td>\n",
              "      <td>0.0</td>\n",
              "      <td>0</td>\n",
              "      <td>0.0</td>\n",
              "      <td>0.0</td>\n",
              "    </tr>\n",
              "    <tr>\n",
              "      <th>...</th>\n",
              "      <td>...</td>\n",
              "      <td>...</td>\n",
              "      <td>...</td>\n",
              "      <td>...</td>\n",
              "      <td>...</td>\n",
              "      <td>...</td>\n",
              "      <td>...</td>\n",
              "      <td>...</td>\n",
              "      <td>...</td>\n",
              "      <td>...</td>\n",
              "      <td>...</td>\n",
              "      <td>...</td>\n",
              "      <td>...</td>\n",
              "      <td>...</td>\n",
              "      <td>...</td>\n",
              "      <td>...</td>\n",
              "      <td>...</td>\n",
              "      <td>...</td>\n",
              "      <td>...</td>\n",
              "      <td>...</td>\n",
              "      <td>...</td>\n",
              "    </tr>\n",
              "    <tr>\n",
              "      <th>438</th>\n",
              "      <td>45.0</td>\n",
              "      <td>1</td>\n",
              "      <td>186.7</td>\n",
              "      <td>136.0</td>\n",
              "      <td>39.0</td>\n",
              "      <td>15.0</td>\n",
              "      <td>0.0</td>\n",
              "      <td>0.0</td>\n",
              "      <td>1.0</td>\n",
              "      <td>1.0</td>\n",
              "      <td>...</td>\n",
              "      <td>164.0</td>\n",
              "      <td>65.0</td>\n",
              "      <td>83.0</td>\n",
              "      <td>16.0</td>\n",
              "      <td>30.0</td>\n",
              "      <td>47.0</td>\n",
              "      <td>1.0</td>\n",
              "      <td>0</td>\n",
              "      <td>1.0</td>\n",
              "      <td>1.0</td>\n",
              "    </tr>\n",
              "    <tr>\n",
              "      <th>439</th>\n",
              "      <td>46.0</td>\n",
              "      <td>2</td>\n",
              "      <td>165.1</td>\n",
              "      <td>121.7</td>\n",
              "      <td>44.6</td>\n",
              "      <td>21.0</td>\n",
              "      <td>1.0</td>\n",
              "      <td>1.0</td>\n",
              "      <td>1.0</td>\n",
              "      <td>1.0</td>\n",
              "      <td>...</td>\n",
              "      <td>280.0</td>\n",
              "      <td>68.0</td>\n",
              "      <td>173.0</td>\n",
              "      <td>39.0</td>\n",
              "      <td>34.0</td>\n",
              "      <td>34.0</td>\n",
              "      <td>0.0</td>\n",
              "      <td>0</td>\n",
              "      <td>0.0</td>\n",
              "      <td>0.0</td>\n",
              "    </tr>\n",
              "    <tr>\n",
              "      <th>440</th>\n",
              "      <td>40.0</td>\n",
              "      <td>2</td>\n",
              "      <td>154.9</td>\n",
              "      <td>108.0</td>\n",
              "      <td>45.0</td>\n",
              "      <td>15.0</td>\n",
              "      <td>0.0</td>\n",
              "      <td>0.0</td>\n",
              "      <td>0.0</td>\n",
              "      <td>1.0</td>\n",
              "      <td>...</td>\n",
              "      <td>217.0</td>\n",
              "      <td>53.0</td>\n",
              "      <td>153.0</td>\n",
              "      <td>11.0</td>\n",
              "      <td>27.0</td>\n",
              "      <td>19.0</td>\n",
              "      <td>0.0</td>\n",
              "      <td>0</td>\n",
              "      <td>0.0</td>\n",
              "      <td>0.0</td>\n",
              "    </tr>\n",
              "    <tr>\n",
              "      <th>441</th>\n",
              "      <td>37.6</td>\n",
              "      <td>2</td>\n",
              "      <td>167.6</td>\n",
              "      <td>141.1</td>\n",
              "      <td>50.2</td>\n",
              "      <td>20.0</td>\n",
              "      <td>0.0</td>\n",
              "      <td>0.0</td>\n",
              "      <td>0.0</td>\n",
              "      <td>0.0</td>\n",
              "      <td>...</td>\n",
              "      <td>153.0</td>\n",
              "      <td>64.0</td>\n",
              "      <td>80.0</td>\n",
              "      <td>9.0</td>\n",
              "      <td>14.0</td>\n",
              "      <td>14.0</td>\n",
              "      <td>0.0</td>\n",
              "      <td>0</td>\n",
              "      <td>1.0</td>\n",
              "      <td>0.0</td>\n",
              "    </tr>\n",
              "    <tr>\n",
              "      <th>442</th>\n",
              "      <td>29.0</td>\n",
              "      <td>2</td>\n",
              "      <td>165.0</td>\n",
              "      <td>146.0</td>\n",
              "      <td>53.6</td>\n",
              "      <td>9.0</td>\n",
              "      <td>0.0</td>\n",
              "      <td>0.0</td>\n",
              "      <td>0.0</td>\n",
              "      <td>0.0</td>\n",
              "      <td>...</td>\n",
              "      <td>134.0</td>\n",
              "      <td>44.0</td>\n",
              "      <td>78.0</td>\n",
              "      <td>12.0</td>\n",
              "      <td>17.0</td>\n",
              "      <td>11.0</td>\n",
              "      <td>0.0</td>\n",
              "      <td>0</td>\n",
              "      <td>1.0</td>\n",
              "      <td>0.0</td>\n",
              "    </tr>\n",
              "  </tbody>\n",
              "</table>\n",
              "<p>350 rows × 21 columns</p>\n",
              "</div>\n",
              "      <button class=\"colab-df-convert\" onclick=\"convertToInteractive('df-ed8a9e1e-112a-4827-a3bc-8968b8b4df56')\"\n",
              "              title=\"Convert this dataframe to an interactive table.\"\n",
              "              style=\"display:none;\">\n",
              "        \n",
              "  <svg xmlns=\"http://www.w3.org/2000/svg\" height=\"24px\"viewBox=\"0 0 24 24\"\n",
              "       width=\"24px\">\n",
              "    <path d=\"M0 0h24v24H0V0z\" fill=\"none\"/>\n",
              "    <path d=\"M18.56 5.44l.94 2.06.94-2.06 2.06-.94-2.06-.94-.94-2.06-.94 2.06-2.06.94zm-11 1L8.5 8.5l.94-2.06 2.06-.94-2.06-.94L8.5 2.5l-.94 2.06-2.06.94zm10 10l.94 2.06.94-2.06 2.06-.94-2.06-.94-.94-2.06-.94 2.06-2.06.94z\"/><path d=\"M17.41 7.96l-1.37-1.37c-.4-.4-.92-.59-1.43-.59-.52 0-1.04.2-1.43.59L10.3 9.45l-7.72 7.72c-.78.78-.78 2.05 0 2.83L4 21.41c.39.39.9.59 1.41.59.51 0 1.02-.2 1.41-.59l7.78-7.78 2.81-2.81c.8-.78.8-2.07 0-2.86zM5.41 20L4 18.59l7.72-7.72 1.47 1.35L5.41 20z\"/>\n",
              "  </svg>\n",
              "      </button>\n",
              "      \n",
              "  <style>\n",
              "    .colab-df-container {\n",
              "      display:flex;\n",
              "      flex-wrap:wrap;\n",
              "      gap: 12px;\n",
              "    }\n",
              "\n",
              "    .colab-df-convert {\n",
              "      background-color: #E8F0FE;\n",
              "      border: none;\n",
              "      border-radius: 50%;\n",
              "      cursor: pointer;\n",
              "      display: none;\n",
              "      fill: #1967D2;\n",
              "      height: 32px;\n",
              "      padding: 0 0 0 0;\n",
              "      width: 32px;\n",
              "    }\n",
              "\n",
              "    .colab-df-convert:hover {\n",
              "      background-color: #E2EBFA;\n",
              "      box-shadow: 0px 1px 2px rgba(60, 64, 67, 0.3), 0px 1px 3px 1px rgba(60, 64, 67, 0.15);\n",
              "      fill: #174EA6;\n",
              "    }\n",
              "\n",
              "    [theme=dark] .colab-df-convert {\n",
              "      background-color: #3B4455;\n",
              "      fill: #D2E3FC;\n",
              "    }\n",
              "\n",
              "    [theme=dark] .colab-df-convert:hover {\n",
              "      background-color: #434B5C;\n",
              "      box-shadow: 0px 1px 3px 1px rgba(0, 0, 0, 0.15);\n",
              "      filter: drop-shadow(0px 1px 2px rgba(0, 0, 0, 0.3));\n",
              "      fill: #FFFFFF;\n",
              "    }\n",
              "  </style>\n",
              "\n",
              "      <script>\n",
              "        const buttonEl =\n",
              "          document.querySelector('#df-ed8a9e1e-112a-4827-a3bc-8968b8b4df56 button.colab-df-convert');\n",
              "        buttonEl.style.display =\n",
              "          google.colab.kernel.accessAllowed ? 'block' : 'none';\n",
              "\n",
              "        async function convertToInteractive(key) {\n",
              "          const element = document.querySelector('#df-ed8a9e1e-112a-4827-a3bc-8968b8b4df56');\n",
              "          const dataTable =\n",
              "            await google.colab.kernel.invokeFunction('convertToInteractive',\n",
              "                                                     [key], {});\n",
              "          if (!dataTable) return;\n",
              "\n",
              "          const docLinkHtml = 'Like what you see? Visit the ' +\n",
              "            '<a target=\"_blank\" href=https://colab.research.google.com/notebooks/data_table.ipynb>data table notebook</a>'\n",
              "            + ' to learn more about interactive tables.';\n",
              "          element.innerHTML = '';\n",
              "          dataTable['output_type'] = 'display_data';\n",
              "          await google.colab.output.renderOutput(dataTable, element);\n",
              "          const docLink = document.createElement('div');\n",
              "          docLink.innerHTML = docLinkHtml;\n",
              "          element.appendChild(docLink);\n",
              "        }\n",
              "      </script>\n",
              "    </div>\n",
              "  </div>\n",
              "  "
            ]
          },
          "metadata": {},
          "execution_count": 24
        }
      ]
    },
    {
      "cell_type": "code",
      "source": [
        "dfnew = dfCleaned.copy()"
      ],
      "metadata": {
        "id": "9lriljfTkbKM"
      },
      "execution_count": 25,
      "outputs": []
    },
    {
      "cell_type": "code",
      "source": [
        "#true positive\n",
        "dfnew.loc[(dfCleaned['LS+ US'] == 1.0) & (dfCleaned['LS+ Biopsy'] == 1.0), 'Confusion Matrix'] = 'TP'\n",
        "dfTP = dfnew.loc[(dfCleaned['LS+ US'] == 1.0) & (dfCleaned['LS+ Biopsy'] == 1.0)]"
      ],
      "metadata": {
        "id": "sEyDIFcCJy5w"
      },
      "execution_count": 26,
      "outputs": []
    },
    {
      "cell_type": "code",
      "source": [
        "#false negative \n",
        "dfnew.loc[(dfCleaned['LS+ US'] == 0.0) & (dfCleaned['LS+ Biopsy'] == 1.0), 'Confusion Matrix'] = 'FN'\n",
        "dfFN = dfnew.loc[(dfCleaned['LS+ US'] == 0.0) & (dfCleaned['LS+ Biopsy'] == 1.0)]"
      ],
      "metadata": {
        "id": "dCzMFCYSW5Ka"
      },
      "execution_count": 27,
      "outputs": []
    },
    {
      "cell_type": "code",
      "source": [
        "#true negative\n",
        "dfnew.loc[(dfCleaned['LS+ US'] == 0.0) & (dfCleaned['LS+ Biopsy'] == 0.0), 'Confusion Matrix'] = 'TN'\n",
        "dfTN = dfnew.loc[(dfCleaned['LS+ US'] == 0.0) & (dfCleaned['LS+ Biopsy'] == 0.0)]"
      ],
      "metadata": {
        "id": "9CBZiLZMW5dr"
      },
      "execution_count": 28,
      "outputs": []
    },
    {
      "cell_type": "code",
      "source": [
        "#false positive\n",
        "dfnew.loc[(dfCleaned['LS+ US'] == 1.0) & (dfCleaned['LS+ Biopsy'] == 0.0), 'Confusion Matrix'] = 'FP'\n",
        "dfFP = dfnew.loc[(dfCleaned['LS+ US'] == 1.0) & (dfCleaned['LS+ Biopsy'] == 0.0)]"
      ],
      "metadata": {
        "id": "2ctSQnKKW53F"
      },
      "execution_count": 29,
      "outputs": []
    },
    {
      "cell_type": "code",
      "source": [
        "#dfnew adds column with ultrasound diagnosis result accuracy based off of confusion matrix\n",
        "dfnew"
      ],
      "metadata": {
        "colab": {
          "base_uri": "https://localhost:8080/",
          "height": 485
        },
        "id": "k2MXo0ki1k3X",
        "outputId": "35295b8a-cde9-4889-9203-456afdb9bd49"
      },
      "execution_count": 30,
      "outputs": [
        {
          "output_type": "execute_result",
          "data": {
            "text/plain": [
              "      Age  Sex  Height  Weight   BMI  Obesity Duration   DM  MET Syndrome  \\\n",
              "0    61.2    2   162.6   127.2  48.1              35.0  0.0           1.0   \n",
              "1    40.4    2   165.1   137.8  50.5              23.0  1.0           1.0   \n",
              "2    38.5    1   193.0   217.1  58.3              11.0  1.0           1.0   \n",
              "4    56.3    2   165.1   124.0  45.5              22.0  0.0           1.0   \n",
              "5    69.0    2   165.1   117.6  43.2              24.0  1.0           1.0   \n",
              "..    ...  ...     ...     ...   ...               ...  ...           ...   \n",
              "438  45.0    1   186.7   136.0  39.0              15.0  0.0           0.0   \n",
              "439  46.0    2   165.1   121.7  44.6              21.0  1.0           1.0   \n",
              "440  40.0    2   154.9   108.0  45.0              15.0  0.0           0.0   \n",
              "441  37.6    2   167.6   141.1  50.2              20.0  0.0           0.0   \n",
              "442  29.0    2   165.0   146.0  53.6               9.0  0.0           0.0   \n",
              "\n",
              "     HTN  HPL  ...   HDL    LDL  VLDL   AST   ALT  NAS  Fibrosis  LS+ US  \\\n",
              "0    1.0  1.0  ...  50.0  124.0  28.0  22.0  14.0  3.0         0     1.0   \n",
              "1    1.0  1.0  ...  49.0  143.0  21.0  50.0  78.0  6.0         0     0.0   \n",
              "2    1.0  0.0  ...  51.0   78.0  17.0  30.0  35.0  3.0         1     1.0   \n",
              "4    1.0  0.0  ...  46.0   57.0  31.0  12.0  15.0  1.0         0     0.0   \n",
              "5    1.0  1.0  ...  43.0   93.0  33.0  18.0  19.0  0.0         0     0.0   \n",
              "..   ...  ...  ...   ...    ...   ...   ...   ...  ...       ...     ...   \n",
              "438  1.0  1.0  ...  65.0   83.0  16.0  30.0  47.0  1.0         0     1.0   \n",
              "439  1.0  1.0  ...  68.0  173.0  39.0  34.0  34.0  0.0         0     0.0   \n",
              "440  0.0  1.0  ...  53.0  153.0  11.0  27.0  19.0  0.0         0     0.0   \n",
              "441  0.0  0.0  ...  64.0   80.0   9.0  14.0  14.0  0.0         0     1.0   \n",
              "442  0.0  0.0  ...  44.0   78.0  12.0  17.0  11.0  0.0         0     1.0   \n",
              "\n",
              "     LS+ Biopsy  Confusion Matrix  \n",
              "0           1.0                TP  \n",
              "1           1.0                FN  \n",
              "2           1.0                TP  \n",
              "4           1.0                FN  \n",
              "5           0.0                TN  \n",
              "..          ...               ...  \n",
              "438         1.0                TP  \n",
              "439         0.0                TN  \n",
              "440         0.0                TN  \n",
              "441         0.0                FP  \n",
              "442         0.0                FP  \n",
              "\n",
              "[350 rows x 22 columns]"
            ],
            "text/html": [
              "\n",
              "  <div id=\"df-e448c7e1-b01a-4ae1-800f-58642cec21df\">\n",
              "    <div class=\"colab-df-container\">\n",
              "      <div>\n",
              "<style scoped>\n",
              "    .dataframe tbody tr th:only-of-type {\n",
              "        vertical-align: middle;\n",
              "    }\n",
              "\n",
              "    .dataframe tbody tr th {\n",
              "        vertical-align: top;\n",
              "    }\n",
              "\n",
              "    .dataframe thead th {\n",
              "        text-align: right;\n",
              "    }\n",
              "</style>\n",
              "<table border=\"1\" class=\"dataframe\">\n",
              "  <thead>\n",
              "    <tr style=\"text-align: right;\">\n",
              "      <th></th>\n",
              "      <th>Age</th>\n",
              "      <th>Sex</th>\n",
              "      <th>Height</th>\n",
              "      <th>Weight</th>\n",
              "      <th>BMI</th>\n",
              "      <th>Obesity Duration</th>\n",
              "      <th>DM</th>\n",
              "      <th>MET Syndrome</th>\n",
              "      <th>HTN</th>\n",
              "      <th>HPL</th>\n",
              "      <th>...</th>\n",
              "      <th>HDL</th>\n",
              "      <th>LDL</th>\n",
              "      <th>VLDL</th>\n",
              "      <th>AST</th>\n",
              "      <th>ALT</th>\n",
              "      <th>NAS</th>\n",
              "      <th>Fibrosis</th>\n",
              "      <th>LS+ US</th>\n",
              "      <th>LS+ Biopsy</th>\n",
              "      <th>Confusion Matrix</th>\n",
              "    </tr>\n",
              "  </thead>\n",
              "  <tbody>\n",
              "    <tr>\n",
              "      <th>0</th>\n",
              "      <td>61.2</td>\n",
              "      <td>2</td>\n",
              "      <td>162.6</td>\n",
              "      <td>127.2</td>\n",
              "      <td>48.1</td>\n",
              "      <td>35.0</td>\n",
              "      <td>0.0</td>\n",
              "      <td>1.0</td>\n",
              "      <td>1.0</td>\n",
              "      <td>1.0</td>\n",
              "      <td>...</td>\n",
              "      <td>50.0</td>\n",
              "      <td>124.0</td>\n",
              "      <td>28.0</td>\n",
              "      <td>22.0</td>\n",
              "      <td>14.0</td>\n",
              "      <td>3.0</td>\n",
              "      <td>0</td>\n",
              "      <td>1.0</td>\n",
              "      <td>1.0</td>\n",
              "      <td>TP</td>\n",
              "    </tr>\n",
              "    <tr>\n",
              "      <th>1</th>\n",
              "      <td>40.4</td>\n",
              "      <td>2</td>\n",
              "      <td>165.1</td>\n",
              "      <td>137.8</td>\n",
              "      <td>50.5</td>\n",
              "      <td>23.0</td>\n",
              "      <td>1.0</td>\n",
              "      <td>1.0</td>\n",
              "      <td>1.0</td>\n",
              "      <td>1.0</td>\n",
              "      <td>...</td>\n",
              "      <td>49.0</td>\n",
              "      <td>143.0</td>\n",
              "      <td>21.0</td>\n",
              "      <td>50.0</td>\n",
              "      <td>78.0</td>\n",
              "      <td>6.0</td>\n",
              "      <td>0</td>\n",
              "      <td>0.0</td>\n",
              "      <td>1.0</td>\n",
              "      <td>FN</td>\n",
              "    </tr>\n",
              "    <tr>\n",
              "      <th>2</th>\n",
              "      <td>38.5</td>\n",
              "      <td>1</td>\n",
              "      <td>193.0</td>\n",
              "      <td>217.1</td>\n",
              "      <td>58.3</td>\n",
              "      <td>11.0</td>\n",
              "      <td>1.0</td>\n",
              "      <td>1.0</td>\n",
              "      <td>1.0</td>\n",
              "      <td>0.0</td>\n",
              "      <td>...</td>\n",
              "      <td>51.0</td>\n",
              "      <td>78.0</td>\n",
              "      <td>17.0</td>\n",
              "      <td>30.0</td>\n",
              "      <td>35.0</td>\n",
              "      <td>3.0</td>\n",
              "      <td>1</td>\n",
              "      <td>1.0</td>\n",
              "      <td>1.0</td>\n",
              "      <td>TP</td>\n",
              "    </tr>\n",
              "    <tr>\n",
              "      <th>4</th>\n",
              "      <td>56.3</td>\n",
              "      <td>2</td>\n",
              "      <td>165.1</td>\n",
              "      <td>124.0</td>\n",
              "      <td>45.5</td>\n",
              "      <td>22.0</td>\n",
              "      <td>0.0</td>\n",
              "      <td>1.0</td>\n",
              "      <td>1.0</td>\n",
              "      <td>0.0</td>\n",
              "      <td>...</td>\n",
              "      <td>46.0</td>\n",
              "      <td>57.0</td>\n",
              "      <td>31.0</td>\n",
              "      <td>12.0</td>\n",
              "      <td>15.0</td>\n",
              "      <td>1.0</td>\n",
              "      <td>0</td>\n",
              "      <td>0.0</td>\n",
              "      <td>1.0</td>\n",
              "      <td>FN</td>\n",
              "    </tr>\n",
              "    <tr>\n",
              "      <th>5</th>\n",
              "      <td>69.0</td>\n",
              "      <td>2</td>\n",
              "      <td>165.1</td>\n",
              "      <td>117.6</td>\n",
              "      <td>43.2</td>\n",
              "      <td>24.0</td>\n",
              "      <td>1.0</td>\n",
              "      <td>1.0</td>\n",
              "      <td>1.0</td>\n",
              "      <td>1.0</td>\n",
              "      <td>...</td>\n",
              "      <td>43.0</td>\n",
              "      <td>93.0</td>\n",
              "      <td>33.0</td>\n",
              "      <td>18.0</td>\n",
              "      <td>19.0</td>\n",
              "      <td>0.0</td>\n",
              "      <td>0</td>\n",
              "      <td>0.0</td>\n",
              "      <td>0.0</td>\n",
              "      <td>TN</td>\n",
              "    </tr>\n",
              "    <tr>\n",
              "      <th>...</th>\n",
              "      <td>...</td>\n",
              "      <td>...</td>\n",
              "      <td>...</td>\n",
              "      <td>...</td>\n",
              "      <td>...</td>\n",
              "      <td>...</td>\n",
              "      <td>...</td>\n",
              "      <td>...</td>\n",
              "      <td>...</td>\n",
              "      <td>...</td>\n",
              "      <td>...</td>\n",
              "      <td>...</td>\n",
              "      <td>...</td>\n",
              "      <td>...</td>\n",
              "      <td>...</td>\n",
              "      <td>...</td>\n",
              "      <td>...</td>\n",
              "      <td>...</td>\n",
              "      <td>...</td>\n",
              "      <td>...</td>\n",
              "      <td>...</td>\n",
              "    </tr>\n",
              "    <tr>\n",
              "      <th>438</th>\n",
              "      <td>45.0</td>\n",
              "      <td>1</td>\n",
              "      <td>186.7</td>\n",
              "      <td>136.0</td>\n",
              "      <td>39.0</td>\n",
              "      <td>15.0</td>\n",
              "      <td>0.0</td>\n",
              "      <td>0.0</td>\n",
              "      <td>1.0</td>\n",
              "      <td>1.0</td>\n",
              "      <td>...</td>\n",
              "      <td>65.0</td>\n",
              "      <td>83.0</td>\n",
              "      <td>16.0</td>\n",
              "      <td>30.0</td>\n",
              "      <td>47.0</td>\n",
              "      <td>1.0</td>\n",
              "      <td>0</td>\n",
              "      <td>1.0</td>\n",
              "      <td>1.0</td>\n",
              "      <td>TP</td>\n",
              "    </tr>\n",
              "    <tr>\n",
              "      <th>439</th>\n",
              "      <td>46.0</td>\n",
              "      <td>2</td>\n",
              "      <td>165.1</td>\n",
              "      <td>121.7</td>\n",
              "      <td>44.6</td>\n",
              "      <td>21.0</td>\n",
              "      <td>1.0</td>\n",
              "      <td>1.0</td>\n",
              "      <td>1.0</td>\n",
              "      <td>1.0</td>\n",
              "      <td>...</td>\n",
              "      <td>68.0</td>\n",
              "      <td>173.0</td>\n",
              "      <td>39.0</td>\n",
              "      <td>34.0</td>\n",
              "      <td>34.0</td>\n",
              "      <td>0.0</td>\n",
              "      <td>0</td>\n",
              "      <td>0.0</td>\n",
              "      <td>0.0</td>\n",
              "      <td>TN</td>\n",
              "    </tr>\n",
              "    <tr>\n",
              "      <th>440</th>\n",
              "      <td>40.0</td>\n",
              "      <td>2</td>\n",
              "      <td>154.9</td>\n",
              "      <td>108.0</td>\n",
              "      <td>45.0</td>\n",
              "      <td>15.0</td>\n",
              "      <td>0.0</td>\n",
              "      <td>0.0</td>\n",
              "      <td>0.0</td>\n",
              "      <td>1.0</td>\n",
              "      <td>...</td>\n",
              "      <td>53.0</td>\n",
              "      <td>153.0</td>\n",
              "      <td>11.0</td>\n",
              "      <td>27.0</td>\n",
              "      <td>19.0</td>\n",
              "      <td>0.0</td>\n",
              "      <td>0</td>\n",
              "      <td>0.0</td>\n",
              "      <td>0.0</td>\n",
              "      <td>TN</td>\n",
              "    </tr>\n",
              "    <tr>\n",
              "      <th>441</th>\n",
              "      <td>37.6</td>\n",
              "      <td>2</td>\n",
              "      <td>167.6</td>\n",
              "      <td>141.1</td>\n",
              "      <td>50.2</td>\n",
              "      <td>20.0</td>\n",
              "      <td>0.0</td>\n",
              "      <td>0.0</td>\n",
              "      <td>0.0</td>\n",
              "      <td>0.0</td>\n",
              "      <td>...</td>\n",
              "      <td>64.0</td>\n",
              "      <td>80.0</td>\n",
              "      <td>9.0</td>\n",
              "      <td>14.0</td>\n",
              "      <td>14.0</td>\n",
              "      <td>0.0</td>\n",
              "      <td>0</td>\n",
              "      <td>1.0</td>\n",
              "      <td>0.0</td>\n",
              "      <td>FP</td>\n",
              "    </tr>\n",
              "    <tr>\n",
              "      <th>442</th>\n",
              "      <td>29.0</td>\n",
              "      <td>2</td>\n",
              "      <td>165.0</td>\n",
              "      <td>146.0</td>\n",
              "      <td>53.6</td>\n",
              "      <td>9.0</td>\n",
              "      <td>0.0</td>\n",
              "      <td>0.0</td>\n",
              "      <td>0.0</td>\n",
              "      <td>0.0</td>\n",
              "      <td>...</td>\n",
              "      <td>44.0</td>\n",
              "      <td>78.0</td>\n",
              "      <td>12.0</td>\n",
              "      <td>17.0</td>\n",
              "      <td>11.0</td>\n",
              "      <td>0.0</td>\n",
              "      <td>0</td>\n",
              "      <td>1.0</td>\n",
              "      <td>0.0</td>\n",
              "      <td>FP</td>\n",
              "    </tr>\n",
              "  </tbody>\n",
              "</table>\n",
              "<p>350 rows × 22 columns</p>\n",
              "</div>\n",
              "      <button class=\"colab-df-convert\" onclick=\"convertToInteractive('df-e448c7e1-b01a-4ae1-800f-58642cec21df')\"\n",
              "              title=\"Convert this dataframe to an interactive table.\"\n",
              "              style=\"display:none;\">\n",
              "        \n",
              "  <svg xmlns=\"http://www.w3.org/2000/svg\" height=\"24px\"viewBox=\"0 0 24 24\"\n",
              "       width=\"24px\">\n",
              "    <path d=\"M0 0h24v24H0V0z\" fill=\"none\"/>\n",
              "    <path d=\"M18.56 5.44l.94 2.06.94-2.06 2.06-.94-2.06-.94-.94-2.06-.94 2.06-2.06.94zm-11 1L8.5 8.5l.94-2.06 2.06-.94-2.06-.94L8.5 2.5l-.94 2.06-2.06.94zm10 10l.94 2.06.94-2.06 2.06-.94-2.06-.94-.94-2.06-.94 2.06-2.06.94z\"/><path d=\"M17.41 7.96l-1.37-1.37c-.4-.4-.92-.59-1.43-.59-.52 0-1.04.2-1.43.59L10.3 9.45l-7.72 7.72c-.78.78-.78 2.05 0 2.83L4 21.41c.39.39.9.59 1.41.59.51 0 1.02-.2 1.41-.59l7.78-7.78 2.81-2.81c.8-.78.8-2.07 0-2.86zM5.41 20L4 18.59l7.72-7.72 1.47 1.35L5.41 20z\"/>\n",
              "  </svg>\n",
              "      </button>\n",
              "      \n",
              "  <style>\n",
              "    .colab-df-container {\n",
              "      display:flex;\n",
              "      flex-wrap:wrap;\n",
              "      gap: 12px;\n",
              "    }\n",
              "\n",
              "    .colab-df-convert {\n",
              "      background-color: #E8F0FE;\n",
              "      border: none;\n",
              "      border-radius: 50%;\n",
              "      cursor: pointer;\n",
              "      display: none;\n",
              "      fill: #1967D2;\n",
              "      height: 32px;\n",
              "      padding: 0 0 0 0;\n",
              "      width: 32px;\n",
              "    }\n",
              "\n",
              "    .colab-df-convert:hover {\n",
              "      background-color: #E2EBFA;\n",
              "      box-shadow: 0px 1px 2px rgba(60, 64, 67, 0.3), 0px 1px 3px 1px rgba(60, 64, 67, 0.15);\n",
              "      fill: #174EA6;\n",
              "    }\n",
              "\n",
              "    [theme=dark] .colab-df-convert {\n",
              "      background-color: #3B4455;\n",
              "      fill: #D2E3FC;\n",
              "    }\n",
              "\n",
              "    [theme=dark] .colab-df-convert:hover {\n",
              "      background-color: #434B5C;\n",
              "      box-shadow: 0px 1px 3px 1px rgba(0, 0, 0, 0.15);\n",
              "      filter: drop-shadow(0px 1px 2px rgba(0, 0, 0, 0.3));\n",
              "      fill: #FFFFFF;\n",
              "    }\n",
              "  </style>\n",
              "\n",
              "      <script>\n",
              "        const buttonEl =\n",
              "          document.querySelector('#df-e448c7e1-b01a-4ae1-800f-58642cec21df button.colab-df-convert');\n",
              "        buttonEl.style.display =\n",
              "          google.colab.kernel.accessAllowed ? 'block' : 'none';\n",
              "\n",
              "        async function convertToInteractive(key) {\n",
              "          const element = document.querySelector('#df-e448c7e1-b01a-4ae1-800f-58642cec21df');\n",
              "          const dataTable =\n",
              "            await google.colab.kernel.invokeFunction('convertToInteractive',\n",
              "                                                     [key], {});\n",
              "          if (!dataTable) return;\n",
              "\n",
              "          const docLinkHtml = 'Like what you see? Visit the ' +\n",
              "            '<a target=\"_blank\" href=https://colab.research.google.com/notebooks/data_table.ipynb>data table notebook</a>'\n",
              "            + ' to learn more about interactive tables.';\n",
              "          element.innerHTML = '';\n",
              "          dataTable['output_type'] = 'display_data';\n",
              "          await google.colab.output.renderOutput(dataTable, element);\n",
              "          const docLink = document.createElement('div');\n",
              "          docLink.innerHTML = docLinkHtml;\n",
              "          element.appendChild(docLink);\n",
              "        }\n",
              "      </script>\n",
              "    </div>\n",
              "  </div>\n",
              "  "
            ]
          },
          "metadata": {},
          "execution_count": 30
        }
      ]
    },
    {
      "cell_type": "code",
      "source": [
        "#Determine median age for demographic table\n",
        "dfnew['Age'].median()"
      ],
      "metadata": {
        "colab": {
          "base_uri": "https://localhost:8080/"
        },
        "id": "5e7Jd3Gl5MWi",
        "outputId": "d5913964-71d0-4717-b6c3-3c0134982f20"
      },
      "execution_count": 31,
      "outputs": [
        {
          "output_type": "execute_result",
          "data": {
            "text/plain": [
              "45.75"
            ]
          },
          "metadata": {},
          "execution_count": 31
        }
      ]
    },
    {
      "cell_type": "code",
      "source": [
        "#Determine mean age for demographic table\n",
        "dfnew['Age'].mean()"
      ],
      "metadata": {
        "colab": {
          "base_uri": "https://localhost:8080/"
        },
        "id": "2UmR1o4w5R3C",
        "outputId": "c04f708a-dc12-4e57-a5c2-6f7f593d7267"
      },
      "execution_count": 32,
      "outputs": [
        {
          "output_type": "execute_result",
          "data": {
            "text/plain": [
              "45.64971428571428"
            ]
          },
          "metadata": {},
          "execution_count": 32
        }
      ]
    },
    {
      "cell_type": "code",
      "source": [
        "#Determine standard deviation of age for demographic table\n",
        "dfnew['Age'].std()"
      ],
      "metadata": {
        "colab": {
          "base_uri": "https://localhost:8080/"
        },
        "id": "PuXvLzrp5VvY",
        "outputId": "0ce915f9-baef-43ff-a4bf-b81003208089"
      },
      "execution_count": 33,
      "outputs": [
        {
          "output_type": "execute_result",
          "data": {
            "text/plain": [
              "11.722837282767685"
            ]
          },
          "metadata": {},
          "execution_count": 33
        }
      ]
    },
    {
      "cell_type": "code",
      "source": [
        "dfnew['Height'].median()"
      ],
      "metadata": {
        "colab": {
          "base_uri": "https://localhost:8080/"
        },
        "id": "Ul-4AfWf5ohW",
        "outputId": "06f04dc0-dbe3-480e-872c-84494b9bf9a2"
      },
      "execution_count": 34,
      "outputs": [
        {
          "output_type": "execute_result",
          "data": {
            "text/plain": [
              "167.3"
            ]
          },
          "metadata": {},
          "execution_count": 34
        }
      ]
    },
    {
      "cell_type": "code",
      "source": [
        "dfnew['Height'].mean()"
      ],
      "metadata": {
        "colab": {
          "base_uri": "https://localhost:8080/"
        },
        "id": "8-yyyM1Y5urD",
        "outputId": "36e15b4e-337e-4266-ffd8-bf91605fc4fc"
      },
      "execution_count": 35,
      "outputs": [
        {
          "output_type": "execute_result",
          "data": {
            "text/plain": [
              "168.28571428571428"
            ]
          },
          "metadata": {},
          "execution_count": 35
        }
      ]
    },
    {
      "cell_type": "code",
      "source": [
        "dfnew['Height'].std()"
      ],
      "metadata": {
        "colab": {
          "base_uri": "https://localhost:8080/"
        },
        "id": "HW1Hlu6G5y6n",
        "outputId": "16af5e96-e7cf-41df-977a-8001599ed854"
      },
      "execution_count": 36,
      "outputs": [
        {
          "output_type": "execute_result",
          "data": {
            "text/plain": [
              "9.23085156139486"
            ]
          },
          "metadata": {},
          "execution_count": 36
        }
      ]
    },
    {
      "cell_type": "code",
      "source": [
        "dfnew['Weight'].median()"
      ],
      "metadata": {
        "colab": {
          "base_uri": "https://localhost:8080/"
        },
        "id": "q7oq4Gzl56Gx",
        "outputId": "0ca11110-1eef-4430-9e62-0e868540fec5"
      },
      "execution_count": 37,
      "outputs": [
        {
          "output_type": "execute_result",
          "data": {
            "text/plain": [
              "127.69999999999999"
            ]
          },
          "metadata": {},
          "execution_count": 37
        }
      ]
    },
    {
      "cell_type": "code",
      "source": [
        "dfnew['Weight'].mean()"
      ],
      "metadata": {
        "colab": {
          "base_uri": "https://localhost:8080/"
        },
        "id": "FqWU_1ve5-_y",
        "outputId": "5c352ff7-808e-416f-e99c-38c8cde756de"
      },
      "execution_count": 38,
      "outputs": [
        {
          "output_type": "execute_result",
          "data": {
            "text/plain": [
              "133.93514285714286"
            ]
          },
          "metadata": {},
          "execution_count": 38
        }
      ]
    },
    {
      "cell_type": "code",
      "source": [
        "dfnew['Weight'].std()"
      ],
      "metadata": {
        "colab": {
          "base_uri": "https://localhost:8080/"
        },
        "id": "NjioIQDT6CGL",
        "outputId": "65e1d8ec-1c44-4314-c662-f0845c51fa27"
      },
      "execution_count": 39,
      "outputs": [
        {
          "output_type": "execute_result",
          "data": {
            "text/plain": [
              "29.881187733288414"
            ]
          },
          "metadata": {},
          "execution_count": 39
        }
      ]
    },
    {
      "cell_type": "code",
      "source": [
        "dfnew['BMI'].median()"
      ],
      "metadata": {
        "colab": {
          "base_uri": "https://localhost:8080/"
        },
        "id": "JoCEBth861ux",
        "outputId": "23afe9ba-ff10-402a-b58f-efe3239fe964"
      },
      "execution_count": 40,
      "outputs": [
        {
          "output_type": "execute_result",
          "data": {
            "text/plain": [
              "45.4"
            ]
          },
          "metadata": {},
          "execution_count": 40
        }
      ]
    },
    {
      "cell_type": "code",
      "source": [
        "dfnew['BMI'].mean()"
      ],
      "metadata": {
        "id": "ML3c1izE7WGm",
        "outputId": "e6deec06-4799-42eb-e89c-6c4e306bada2",
        "colab": {
          "base_uri": "https://localhost:8080/"
        }
      },
      "execution_count": 41,
      "outputs": [
        {
          "output_type": "execute_result",
          "data": {
            "text/plain": [
              "47.13057142857142"
            ]
          },
          "metadata": {},
          "execution_count": 41
        }
      ]
    },
    {
      "cell_type": "code",
      "source": [
        "dfnew['BMI'].std()"
      ],
      "metadata": {
        "id": "V9J5DGnG7ZDr",
        "outputId": "6882fc38-58ae-49a9-b366-90e56282ecca",
        "colab": {
          "base_uri": "https://localhost:8080/"
        }
      },
      "execution_count": 42,
      "outputs": [
        {
          "output_type": "execute_result",
          "data": {
            "text/plain": [
              "9.205474091767119"
            ]
          },
          "metadata": {},
          "execution_count": 42
        }
      ]
    },
    {
      "cell_type": "code",
      "source": [
        "dfnew.to_csv('/content/startingData/SteatosisDataset_ClinicalCharacteristics.csv')"
      ],
      "metadata": {
        "id": "iqwLAYf0j1hW"
      },
      "execution_count": 43,
      "outputs": []
    },
    {
      "cell_type": "code",
      "source": [
        "axes = sns.histplot(data=dfnew, x='Age',edgecolor='white', hue='Sex')\n",
        "axes.set(ylabel='Count', xlabel='Age')\n",
        "sns.despine()\n",
        "plt.savefig(\"/content/figures/Figure1.pdf\", bbox_inches='tight')"
      ],
      "metadata": {
        "colab": {
          "base_uri": "https://localhost:8080/",
          "height": 279
        },
        "id": "Mu6xDGlGwhtI",
        "outputId": "d739239e-4eea-4265-a9e4-7e781a0f45d6"
      },
      "execution_count": 44,
      "outputs": [
        {
          "output_type": "display_data",
          "data": {
            "text/plain": [
              "<Figure size 432x288 with 1 Axes>"
            ],
            "image/png": "[encoded data removed]"
          },
          "metadata": {
            "needs_background": "light"
          }
        }
      ]
    },
    {
      "cell_type": "code",
      "source": [
        "#Define total number of patients in dfnew\n",
        "totalnumberOfPatients2 = 350"
      ],
      "metadata": {
        "id": "FxkIZr_k0euz"
      },
      "execution_count": 45,
      "outputs": []
    },
    {
      "cell_type": "code",
      "source": [
        "#Generate 2x2 contingency table/probability matrix for liver biopsy results of patients stratified by gender\n",
        "sexdemographicsSteatosisMatrix = (pd.crosstab(dfnew['Sex'], dfnew['LS+ Biopsy'], margins=True))\n",
        "print(sexdemographicsSteatosisMatrix)\n",
        "plt.savefig(\"/content/results/Table2.pdf\")"
      ],
      "metadata": {
        "colab": {
          "base_uri": "https://localhost:8080/",
          "height": 124
        },
        "id": "El3d-vpxSC6B",
        "outputId": "cb08d9a9-33ff-45b8-f414-d20e030df1d8"
      },
      "execution_count": 46,
      "outputs": [
        {
          "output_type": "stream",
          "name": "stdout",
          "text": [
            "LS+ Biopsy  0.0  1.0  All\n",
            "Sex                      \n",
            "1            19   76   95\n",
            "2            74  181  255\n",
            "All          93  257  350\n"
          ]
        },
        {
          "output_type": "display_data",
          "data": {
            "text/plain": [
              "<Figure size 432x288 with 0 Axes>"
            ]
          },
          "metadata": {}
        }
      ]
    },
    {
      "cell_type": "code",
      "source": [
        "sexdemographicsProbSteatosisMatrix = (pd.crosstab(dfnew['Sex'], dfnew['LS+ Biopsy'], margins=True))/totalnumberOfPatients2\n",
        "print(sexdemographicsProbSteatosisMatrix)\n",
        "plt.savefig(\"/content/results/Table3.pdf\")"
      ],
      "metadata": {
        "colab": {
          "base_uri": "https://localhost:8080/",
          "height": 124
        },
        "id": "xU0zyOHF2i3O",
        "outputId": "4efa1588-1961-48c4-8898-7694bb26ddbb"
      },
      "execution_count": 47,
      "outputs": [
        {
          "output_type": "stream",
          "name": "stdout",
          "text": [
            "LS+ Biopsy       0.0       1.0       All\n",
            "Sex                                     \n",
            "1           0.054286  0.217143  0.271429\n",
            "2           0.211429  0.517143  0.728571\n",
            "All         0.265714  0.734286  1.000000\n"
          ]
        },
        {
          "output_type": "display_data",
          "data": {
            "text/plain": [
              "<Figure size 432x288 with 0 Axes>"
            ]
          },
          "metadata": {}
        }
      ]
    },
    {
      "cell_type": "code",
      "source": [
        "sns.boxplot(data=dfnew, x='Confusion Matrix', y='AST',fliersize=0, boxprops={'edgecolor':'black','facecolor':(1,1,1,0)}, zorder=5)\n",
        "sns.stripplot(data=dfnew, x='Confusion Matrix', y='AST', alpha=.5, jitter=.2, zorder=0, palette = 'colorblind')\n",
        "plt.savefig(\"/content/figures/Figure10.pdf\", bbox_inches='tight')"
      ],
      "metadata": {
        "colab": {
          "base_uri": "https://localhost:8080/",
          "height": 279
        },
        "id": "zti3qUzL8kxL",
        "outputId": "c78ffc5e-59ba-4dde-ec23-14d92e15389d"
      },
      "execution_count": 48,
      "outputs": [
        {
          "output_type": "display_data",
          "data": {
            "text/plain": [
              "<Figure size 432x288 with 1 Axes>"
            ],
            "image/png": "[encoded data removed]"
          },
          "metadata": {
            "needs_background": "light"
          }
        }
      ]
    },
    {
      "cell_type": "code",
      "source": [
        "sns.boxplot(data=dfnew, x='Confusion Matrix', y='ALT',fliersize=0, boxprops={'edgecolor':'black','facecolor':(1,1,1,0)}, zorder=5)\n",
        "sns.stripplot(data=dfnew, x='Confusion Matrix', y='ALT', alpha=.5, jitter=.2, zorder=0, palette = 'colorblind')\n",
        "plt.savefig(\"/content/figures/Figure11.pdf\", bbox_inches='tight')"
      ],
      "metadata": {
        "colab": {
          "base_uri": "https://localhost:8080/",
          "height": 279
        },
        "id": "PNQYEB-m8pPn",
        "outputId": "49fe8c87-4556-4388-83e7-5176f959cb88"
      },
      "execution_count": 49,
      "outputs": [
        {
          "output_type": "display_data",
          "data": {
            "text/plain": [
              "<Figure size 432x288 with 1 Axes>"
            ],
            "image/png": "[encoded data removed]"
          },
          "metadata": {
            "needs_background": "light"
          }
        }
      ]
    },
    {
      "cell_type": "code",
      "source": [
        "sns.boxplot(data=dfnew, x='Confusion Matrix', y='Obesity Duration',fliersize=0, boxprops={'edgecolor':'black','facecolor':(1,1,1,0)}, zorder=5)\n",
        "sns.stripplot(data=dfnew, x='Confusion Matrix', y='Obesity Duration', alpha=.5, jitter=.2, zorder=0, palette = 'colorblind')\n",
        "plt.savefig(\"/content/figures/Figure12.pdf\", bbox_inches='tight')"
      ],
      "metadata": {
        "colab": {
          "base_uri": "https://localhost:8080/",
          "height": 279
        },
        "id": "QPEtkNGW8Z8F",
        "outputId": "701bd127-8625-4002-f20c-bc9c61d5317f"
      },
      "execution_count": 50,
      "outputs": [
        {
          "output_type": "display_data",
          "data": {
            "text/plain": [
              "<Figure size 432x288 with 1 Axes>"
            ],
            "image/png": "[encoded data removed]"
          },
          "metadata": {
            "needs_background": "light"
          }
        }
      ]
    },
    {
      "cell_type": "code",
      "source": [
        "sns.boxplot(data=dfnew, x='Confusion Matrix', y='NAS',fliersize=0, boxprops={'edgecolor':'black','facecolor':(1,1,1,0)}, zorder=5)\n",
        "sns.stripplot(data=dfnew, x='Confusion Matrix', y='NAS', alpha=.5, jitter=.2, zorder=0, palette = 'colorblind')\n",
        "plt.savefig(\"/content/figures/Figure13.pdf\", bbox_inches='tight')"
      ],
      "metadata": {
        "colab": {
          "base_uri": "https://localhost:8080/",
          "height": 279
        },
        "id": "9yR3nEtITWkC",
        "outputId": "561c6c58-a92c-44b1-d6c9-f95c72104f2e"
      },
      "execution_count": 51,
      "outputs": [
        {
          "output_type": "display_data",
          "data": {
            "text/plain": [
              "<Figure size 432x288 with 1 Axes>"
            ],
            "image/png": "[encoded data removed]"
          },
          "metadata": {
            "needs_background": "light"
          }
        }
      ]
    },
    {
      "cell_type": "code",
      "source": [
        "sns.boxplot(data=dfnew, x='Confusion Matrix', y='Fibrosis',fliersize=0, boxprops={'edgecolor':'black','facecolor':(1,1,1,0)}, zorder=5)\n",
        "sns.stripplot(data=dfnew, x='Confusion Matrix', y='Fibrosis', alpha=.5, jitter=.2, zorder=0, palette = 'colorblind')\n",
        "plt.savefig(\"/content/figures/Figure14.pdf\", bbox_inches='tight')"
      ],
      "metadata": {
        "colab": {
          "base_uri": "https://localhost:8080/",
          "height": 279
        },
        "id": "YWQNjt9pnZte",
        "outputId": "7a2583aa-54ac-45d4-c05f-d0b581e60966"
      },
      "execution_count": 52,
      "outputs": [
        {
          "output_type": "display_data",
          "data": {
            "text/plain": [
              "<Figure size 432x288 with 1 Axes>"
            ],
            "image/png": "[encoded data removed]"
          },
          "metadata": {
            "needs_background": "light"
          }
        }
      ]
    },
    {
      "cell_type": "code",
      "source": [
        "sns.barplot(data=dfnew,x='Confusion Matrix',y='CHOL', capsize=0.1)\n",
        "plt.savefig(\"/content/figures/Figure2.pdf\", bbox_inches='tight')"
      ],
      "metadata": {
        "colab": {
          "base_uri": "https://localhost:8080/",
          "height": 279
        },
        "id": "aEJgwkUoDJ7k",
        "outputId": "c3c8bc4c-9696-437d-d7af-c77d8937665d"
      },
      "execution_count": 53,
      "outputs": [
        {
          "output_type": "display_data",
          "data": {
            "text/plain": [
              "<Figure size 432x288 with 1 Axes>"
            ],
            "image/png": "[encoded data removed]"
          },
          "metadata": {
            "needs_background": "light"
          }
        }
      ]
    },
    {
      "cell_type": "code",
      "source": [
        "sns.barplot(data=dfnew,x='Confusion Matrix',y='LDL', capsize=0.1)\n",
        "plt.savefig(\"/content/figures/Figure3.pdf\", bbox_inches='tight')"
      ],
      "metadata": {
        "colab": {
          "base_uri": "https://localhost:8080/",
          "height": 279
        },
        "id": "j1fUImKvGU7Y",
        "outputId": "2f154633-c8cc-46ba-9235-91fcd1a47627"
      },
      "execution_count": 54,
      "outputs": [
        {
          "output_type": "display_data",
          "data": {
            "text/plain": [
              "<Figure size 432x288 with 1 Axes>"
            ],
            "image/png": "[encoded data removed]"
          },
          "metadata": {
            "needs_background": "light"
          }
        }
      ]
    },
    {
      "cell_type": "code",
      "source": [
        "sns.barplot(data=dfnew,x='Confusion Matrix',y='VLDL', capsize=0.1)\n",
        "plt.savefig(\"/content/figures/Figure4.pdf\", bbox_inches='tight')"
      ],
      "metadata": {
        "colab": {
          "base_uri": "https://localhost:8080/",
          "height": 279
        },
        "id": "wJWtA54dVO6w",
        "outputId": "489a1dbb-4392-4979-8da6-cca6d701734d"
      },
      "execution_count": 55,
      "outputs": [
        {
          "output_type": "display_data",
          "data": {
            "text/plain": [
              "<Figure size 432x288 with 1 Axes>"
            ],
            "image/png": "[encoded data removed]"
          },
          "metadata": {
            "needs_background": "light"
          }
        }
      ]
    },
    {
      "cell_type": "code",
      "source": [
        "sns.barplot(data=dfnew,x='Confusion Matrix',y='HDL', capsize=0.1)\n",
        "plt.savefig(\"/content/figures/Figure5.pdf\", bbox_inches='tight')"
      ],
      "metadata": {
        "colab": {
          "base_uri": "https://localhost:8080/",
          "height": 279
        },
        "id": "c7hU1Xc1FaYW",
        "outputId": "50b0b6db-920f-46ce-c058-ecf1b4cdaa3a"
      },
      "execution_count": 56,
      "outputs": [
        {
          "output_type": "display_data",
          "data": {
            "text/plain": [
              "<Figure size 432x288 with 1 Axes>"
            ],
            "image/png": "[encoded data removed]"
          },
          "metadata": {
            "needs_background": "light"
          }
        }
      ]
    },
    {
      "cell_type": "code",
      "source": [
        "sns.barplot(data=dfnew,x='Confusion Matrix',y='TG', capsize=0.1)\n",
        "plt.savefig(\"/content/figures/Figure6.pdf\", bbox_inches='tight')"
      ],
      "metadata": {
        "colab": {
          "base_uri": "https://localhost:8080/",
          "height": 279
        },
        "id": "72gSfdFwnRxJ",
        "outputId": "7cd6f709-d06e-4381-8d4a-707bd7123319"
      },
      "execution_count": 57,
      "outputs": [
        {
          "output_type": "display_data",
          "data": {
            "text/plain": [
              "<Figure size 432x288 with 1 Axes>"
            ],
            "image/png": "[encoded data removed]"
          },
          "metadata": {
            "needs_background": "light"
          }
        }
      ]
    },
    {
      "cell_type": "code",
      "source": [
        "sns.barplot(data=dfnew,x='Confusion Matrix',y='AST', capsize=0.1)\n",
        "plt.savefig(\"/content/figures/Figure7.pdf\", bbox_inches='tight')"
      ],
      "metadata": {
        "colab": {
          "base_uri": "https://localhost:8080/",
          "height": 282
        },
        "id": "sp69TlthTrP8",
        "outputId": "8af04724-6c1e-4faf-fb2a-6c7a2c565624"
      },
      "execution_count": 58,
      "outputs": [
        {
          "output_type": "display_data",
          "data": {
            "text/plain": [
              "<Figure size 432x288 with 1 Axes>"
            ],
            "image/png": "[encoded data removed]"
          },
          "metadata": {
            "needs_background": "light"
          }
        }
      ]
    },
    {
      "cell_type": "code",
      "source": [
        "sns.barplot(data=dfnew,x='Confusion Matrix',y='ALT', capsize=0.1)\n",
        "plt.savefig(\"/content/figures/Figure8.pdf\", bbox_inches='tight')"
      ],
      "metadata": {
        "colab": {
          "base_uri": "https://localhost:8080/",
          "height": 279
        },
        "id": "9V5gjxOiUVge",
        "outputId": "6592db69-de6c-49ab-8122-801106c3d19a"
      },
      "execution_count": 59,
      "outputs": [
        {
          "output_type": "display_data",
          "data": {
            "text/plain": [
              "<Figure size 432x288 with 1 Axes>"
            ],
            "image/png": "[encoded data removed]"
          },
          "metadata": {
            "needs_background": "light"
          }
        }
      ]
    },
    {
      "cell_type": "code",
      "source": [
        "sns.barplot(data=dfnew,x='Confusion Matrix',y='Obesity Duration', capsize=0.1)\n",
        "plt.savefig(\"/content/figures/Figure9.pdf\", bbox_inches='tight')"
      ],
      "metadata": {
        "colab": {
          "base_uri": "https://localhost:8080/",
          "height": 279
        },
        "id": "xlxsTuaBnv21",
        "outputId": "ce5e5566-66ac-4c9e-b10f-96381591fd1f"
      },
      "execution_count": 60,
      "outputs": [
        {
          "output_type": "display_data",
          "data": {
            "text/plain": [
              "<Figure size 432x288 with 1 Axes>"
            ],
            "image/png": "[encoded data removed]"
          },
          "metadata": {
            "needs_background": "light"
          }
        }
      ]
    },
    {
      "cell_type": "code",
      "source": [
        "dfnewSteatosisMatrix = (pd.crosstab(dfnew['LS+ US'], dfnew['LS+ Biopsy'], margins=True))\n",
        "dfnewSteatosisMatrix"
      ],
      "metadata": {
        "colab": {
          "base_uri": "https://localhost:8080/",
          "height": 175
        },
        "id": "RHc3F61laqwI",
        "outputId": "7bc86696-8e79-44b5-8138-6192ecc27dd5"
      },
      "execution_count": 61,
      "outputs": [
        {
          "output_type": "execute_result",
          "data": {
            "text/plain": [
              "LS+ Biopsy  0.0  1.0  All\n",
              "LS+ US                   \n",
              "0.0          64   39  103\n",
              "1.0          29  218  247\n",
              "All          93  257  350"
            ],
            "text/html": [
              "\n",
              "  <div id=\"df-38a00bb6-23d1-4e9a-a49f-dd1503459e08\">\n",
              "    <div class=\"colab-df-container\">\n",
              "      <div>\n",
              "<style scoped>\n",
              "    .dataframe tbody tr th:only-of-type {\n",
              "        vertical-align: middle;\n",
              "    }\n",
              "\n",
              "    .dataframe tbody tr th {\n",
              "        vertical-align: top;\n",
              "    }\n",
              "\n",
              "    .dataframe thead th {\n",
              "        text-align: right;\n",
              "    }\n",
              "</style>\n",
              "<table border=\"1\" class=\"dataframe\">\n",
              "  <thead>\n",
              "    <tr style=\"text-align: right;\">\n",
              "      <th>LS+ Biopsy</th>\n",
              "      <th>0.0</th>\n",
              "      <th>1.0</th>\n",
              "      <th>All</th>\n",
              "    </tr>\n",
              "    <tr>\n",
              "      <th>LS+ US</th>\n",
              "      <th></th>\n",
              "      <th></th>\n",
              "      <th></th>\n",
              "    </tr>\n",
              "  </thead>\n",
              "  <tbody>\n",
              "    <tr>\n",
              "      <th>0.0</th>\n",
              "      <td>64</td>\n",
              "      <td>39</td>\n",
              "      <td>103</td>\n",
              "    </tr>\n",
              "    <tr>\n",
              "      <th>1.0</th>\n",
              "      <td>29</td>\n",
              "      <td>218</td>\n",
              "      <td>247</td>\n",
              "    </tr>\n",
              "    <tr>\n",
              "      <th>All</th>\n",
              "      <td>93</td>\n",
              "      <td>257</td>\n",
              "      <td>350</td>\n",
              "    </tr>\n",
              "  </tbody>\n",
              "</table>\n",
              "</div>\n",
              "      <button class=\"colab-df-convert\" onclick=\"convertToInteractive('df-38a00bb6-23d1-4e9a-a49f-dd1503459e08')\"\n",
              "              title=\"Convert this dataframe to an interactive table.\"\n",
              "              style=\"display:none;\">\n",
              "        \n",
              "  <svg xmlns=\"http://www.w3.org/2000/svg\" height=\"24px\"viewBox=\"0 0 24 24\"\n",
              "       width=\"24px\">\n",
              "    <path d=\"M0 0h24v24H0V0z\" fill=\"none\"/>\n",
              "    <path d=\"M18.56 5.44l.94 2.06.94-2.06 2.06-.94-2.06-.94-.94-2.06-.94 2.06-2.06.94zm-11 1L8.5 8.5l.94-2.06 2.06-.94-2.06-.94L8.5 2.5l-.94 2.06-2.06.94zm10 10l.94 2.06.94-2.06 2.06-.94-2.06-.94-.94-2.06-.94 2.06-2.06.94z\"/><path d=\"M17.41 7.96l-1.37-1.37c-.4-.4-.92-.59-1.43-.59-.52 0-1.04.2-1.43.59L10.3 9.45l-7.72 7.72c-.78.78-.78 2.05 0 2.83L4 21.41c.39.39.9.59 1.41.59.51 0 1.02-.2 1.41-.59l7.78-7.78 2.81-2.81c.8-.78.8-2.07 0-2.86zM5.41 20L4 18.59l7.72-7.72 1.47 1.35L5.41 20z\"/>\n",
              "  </svg>\n",
              "      </button>\n",
              "      \n",
              "  <style>\n",
              "    .colab-df-container {\n",
              "      display:flex;\n",
              "      flex-wrap:wrap;\n",
              "      gap: 12px;\n",
              "    }\n",
              "\n",
              "    .colab-df-convert {\n",
              "      background-color: #E8F0FE;\n",
              "      border: none;\n",
              "      border-radius: 50%;\n",
              "      cursor: pointer;\n",
              "      display: none;\n",
              "      fill: #1967D2;\n",
              "      height: 32px;\n",
              "      padding: 0 0 0 0;\n",
              "      width: 32px;\n",
              "    }\n",
              "\n",
              "    .colab-df-convert:hover {\n",
              "      background-color: #E2EBFA;\n",
              "      box-shadow: 0px 1px 2px rgba(60, 64, 67, 0.3), 0px 1px 3px 1px rgba(60, 64, 67, 0.15);\n",
              "      fill: #174EA6;\n",
              "    }\n",
              "\n",
              "    [theme=dark] .colab-df-convert {\n",
              "      background-color: #3B4455;\n",
              "      fill: #D2E3FC;\n",
              "    }\n",
              "\n",
              "    [theme=dark] .colab-df-convert:hover {\n",
              "      background-color: #434B5C;\n",
              "      box-shadow: 0px 1px 3px 1px rgba(0, 0, 0, 0.15);\n",
              "      filter: drop-shadow(0px 1px 2px rgba(0, 0, 0, 0.3));\n",
              "      fill: #FFFFFF;\n",
              "    }\n",
              "  </style>\n",
              "\n",
              "      <script>\n",
              "        const buttonEl =\n",
              "          document.querySelector('#df-38a00bb6-23d1-4e9a-a49f-dd1503459e08 button.colab-df-convert');\n",
              "        buttonEl.style.display =\n",
              "          google.colab.kernel.accessAllowed ? 'block' : 'none';\n",
              "\n",
              "        async function convertToInteractive(key) {\n",
              "          const element = document.querySelector('#df-38a00bb6-23d1-4e9a-a49f-dd1503459e08');\n",
              "          const dataTable =\n",
              "            await google.colab.kernel.invokeFunction('convertToInteractive',\n",
              "                                                     [key], {});\n",
              "          if (!dataTable) return;\n",
              "\n",
              "          const docLinkHtml = 'Like what you see? Visit the ' +\n",
              "            '<a target=\"_blank\" href=https://colab.research.google.com/notebooks/data_table.ipynb>data table notebook</a>'\n",
              "            + ' to learn more about interactive tables.';\n",
              "          element.innerHTML = '';\n",
              "          dataTable['output_type'] = 'display_data';\n",
              "          await google.colab.output.renderOutput(dataTable, element);\n",
              "          const docLink = document.createElement('div');\n",
              "          docLink.innerHTML = docLinkHtml;\n",
              "          element.appendChild(docLink);\n",
              "        }\n",
              "      </script>\n",
              "    </div>\n",
              "  </div>\n",
              "  "
            ]
          },
          "metadata": {},
          "execution_count": 61
        }
      ]
    },
    {
      "cell_type": "code",
      "source": [
        "#Kolmogorov–Smirnov test to test normal distribution in population with unknown variance for t test (n>50)\n",
        "#alpha level =0.05\n",
        "stats.kstest(dfTP['Obesity Duration'], 'norm') "
      ],
      "metadata": {
        "colab": {
          "base_uri": "https://localhost:8080/"
        },
        "id": "PReMBQGtUFQs",
        "outputId": "77edb750-4194-48b7-bc34-24fa19001e65"
      },
      "execution_count": 62,
      "outputs": [
        {
          "output_type": "execute_result",
          "data": {
            "text/plain": [
              "KstestResult(statistic=0.9894757900417643, pvalue=0.0)"
            ]
          },
          "metadata": {},
          "execution_count": 62
        }
      ]
    },
    {
      "cell_type": "code",
      "source": [
        "#Shapiro-Wilkes test to test normal distribution in population with unknown variance for t test (n>50)\n",
        "#alpha level =0.05\n",
        "stats.shapiro(dfFN['Obesity Duration'])"
      ],
      "metadata": {
        "colab": {
          "base_uri": "https://localhost:8080/"
        },
        "id": "pBsYfQYtapW4",
        "outputId": "b21d0772-7d8a-436f-b16f-d7552f72bd2f"
      },
      "execution_count": 63,
      "outputs": [
        {
          "output_type": "execute_result",
          "data": {
            "text/plain": [
              "ShapiroResult(statistic=0.9510392546653748, pvalue=0.08907622843980789)"
            ]
          },
          "metadata": {},
          "execution_count": 63
        }
      ]
    },
    {
      "cell_type": "code",
      "source": [
        "#Mann-Whitney U Test done to determine if clinical characteristic differences between TP and FN patient groups (nonparametric) are statistically significant \n",
        "stats.mannwhitneyu(dfTP['Obesity Duration'], dfFN['Obesity Duration'], alternative = 'greater')"
      ],
      "metadata": {
        "colab": {
          "base_uri": "https://localhost:8080/"
        },
        "id": "AfYDK2yBJqYB",
        "outputId": "4747b4fb-e4aa-425f-96a2-ba62e264cd9a"
      },
      "execution_count": 64,
      "outputs": [
        {
          "output_type": "execute_result",
          "data": {
            "text/plain": [
              "MannwhitneyuResult(statistic=5329.5, pvalue=0.0057897203490049195)"
            ]
          },
          "metadata": {},
          "execution_count": 64
        }
      ]
    },
    {
      "cell_type": "code",
      "source": [
        "stats.kstest(dfTP['CHOL'], 'norm') "
      ],
      "metadata": {
        "colab": {
          "base_uri": "https://localhost:8080/"
        },
        "id": "38sj_EoxZ9vx",
        "outputId": "d960653d-9625-41b0-fa25-95fc4b935c97"
      },
      "execution_count": 65,
      "outputs": [
        {
          "output_type": "execute_result",
          "data": {
            "text/plain": [
              "KstestResult(statistic=1.0, pvalue=0.0)"
            ]
          },
          "metadata": {},
          "execution_count": 65
        }
      ]
    },
    {
      "cell_type": "code",
      "source": [
        "stats.shapiro(dfFN['CHOL'])"
      ],
      "metadata": {
        "colab": {
          "base_uri": "https://localhost:8080/"
        },
        "id": "gcEiSzJRZ9lf",
        "outputId": "0dde0c74-e019-48df-eb21-0ba9b62ca4c2"
      },
      "execution_count": 66,
      "outputs": [
        {
          "output_type": "execute_result",
          "data": {
            "text/plain": [
              "ShapiroResult(statistic=0.8750214576721191, pvalue=0.00045728744589723647)"
            ]
          },
          "metadata": {},
          "execution_count": 66
        }
      ]
    },
    {
      "cell_type": "code",
      "source": [
        "stats.mannwhitneyu(dfTP['CHOL'], dfFN['CHOL'], alternative = 'greater')"
      ],
      "metadata": {
        "colab": {
          "base_uri": "https://localhost:8080/"
        },
        "id": "XLATLbV5Z9M0",
        "outputId": "760f9f37-715c-4fe7-882d-9992095e5119"
      },
      "execution_count": 67,
      "outputs": [
        {
          "output_type": "execute_result",
          "data": {
            "text/plain": [
              "MannwhitneyuResult(statistic=4630.5, pvalue=0.18766667374890073)"
            ]
          },
          "metadata": {},
          "execution_count": 67
        }
      ]
    },
    {
      "cell_type": "code",
      "source": [
        "stats.kstest(dfTP['LDL'], 'norm') "
      ],
      "metadata": {
        "colab": {
          "base_uri": "https://localhost:8080/"
        },
        "id": "O9WK7EZ0NBRR",
        "outputId": "7b8abd10-a186-4a8c-fb38-f9651cb48278"
      },
      "execution_count": 68,
      "outputs": [
        {
          "output_type": "execute_result",
          "data": {
            "text/plain": [
              "KstestResult(statistic=1.0, pvalue=0.0)"
            ]
          },
          "metadata": {},
          "execution_count": 68
        }
      ]
    },
    {
      "cell_type": "code",
      "source": [
        "stats.shapiro(dfFN['LDL'])"
      ],
      "metadata": {
        "colab": {
          "base_uri": "https://localhost:8080/"
        },
        "id": "r2WVl2AZbC17",
        "outputId": "f3433014-53f4-42d8-cada-b44f431eca90"
      },
      "execution_count": 69,
      "outputs": [
        {
          "output_type": "execute_result",
          "data": {
            "text/plain": [
              "ShapiroResult(statistic=0.8397706151008606, pvalue=6.210986612131819e-05)"
            ]
          },
          "metadata": {},
          "execution_count": 69
        }
      ]
    },
    {
      "cell_type": "code",
      "source": [
        "stats.mannwhitneyu(dfTP['LDL'], dfFN['LDL'], alternative = 'greater')"
      ],
      "metadata": {
        "colab": {
          "base_uri": "https://localhost:8080/"
        },
        "id": "Lubgd8sIJrdM",
        "outputId": "7344d542-b283-447e-a018-0b1590fe05da"
      },
      "execution_count": 70,
      "outputs": [
        {
          "output_type": "execute_result",
          "data": {
            "text/plain": [
              "MannwhitneyuResult(statistic=4787.5, pvalue=0.10495713287022301)"
            ]
          },
          "metadata": {},
          "execution_count": 70
        }
      ]
    },
    {
      "cell_type": "code",
      "source": [
        "stats.kstest(dfTP['TG'], 'norm') "
      ],
      "metadata": {
        "colab": {
          "base_uri": "https://localhost:8080/"
        },
        "id": "0_y7OiwbNHUi",
        "outputId": "ac5489ee-d2ba-44b3-c39f-29c51c7575f4"
      },
      "execution_count": 71,
      "outputs": [
        {
          "output_type": "execute_result",
          "data": {
            "text/plain": [
              "KstestResult(statistic=1.0, pvalue=0.0)"
            ]
          },
          "metadata": {},
          "execution_count": 71
        }
      ]
    },
    {
      "cell_type": "code",
      "source": [
        "stats.shapiro(dfFN['TG'])"
      ],
      "metadata": {
        "colab": {
          "base_uri": "https://localhost:8080/"
        },
        "id": "GEa6oGkmbRyj",
        "outputId": "3ec5412d-090b-41ee-eb6e-9a6da7168e7d"
      },
      "execution_count": 72,
      "outputs": [
        {
          "output_type": "execute_result",
          "data": {
            "text/plain": [
              "ShapiroResult(statistic=0.8827981352806091, pvalue=0.0007349114748649299)"
            ]
          },
          "metadata": {},
          "execution_count": 72
        }
      ]
    },
    {
      "cell_type": "code",
      "source": [
        "stats.mannwhitneyu(dfTP['TG'], dfFN['TG'], alternative = 'greater')"
      ],
      "metadata": {
        "colab": {
          "base_uri": "https://localhost:8080/"
        },
        "id": "MtcLafMeJsJq",
        "outputId": "ef6ba03b-5eb3-4f59-f2e9-b32de461b214"
      },
      "execution_count": 73,
      "outputs": [
        {
          "output_type": "execute_result",
          "data": {
            "text/plain": [
              "MannwhitneyuResult(statistic=4521.0, pvalue=0.2642242107901606)"
            ]
          },
          "metadata": {},
          "execution_count": 73
        }
      ]
    },
    {
      "cell_type": "code",
      "source": [
        "stats.kstest(dfTP['VLDL'], 'norm') "
      ],
      "metadata": {
        "colab": {
          "base_uri": "https://localhost:8080/"
        },
        "id": "qTEaeHjOy_lW",
        "outputId": "7ad5f59b-0d90-409f-f68f-00170beeac9d"
      },
      "execution_count": 74,
      "outputs": [
        {
          "output_type": "execute_result",
          "data": {
            "text/plain": [
              "KstestResult(statistic=0.9999999999999993, pvalue=0.0)"
            ]
          },
          "metadata": {},
          "execution_count": 74
        }
      ]
    },
    {
      "cell_type": "code",
      "source": [
        "stats.shapiro(dfFN['VLDL'])"
      ],
      "metadata": {
        "colab": {
          "base_uri": "https://localhost:8080/"
        },
        "id": "Azdtq3hQzBVa",
        "outputId": "0f6bd8a1-5de4-4661-a9bb-87b16b5e57b1"
      },
      "execution_count": 75,
      "outputs": [
        {
          "output_type": "execute_result",
          "data": {
            "text/plain": [
              "ShapiroResult(statistic=0.8843219876289368, pvalue=0.000807794916909188)"
            ]
          },
          "metadata": {},
          "execution_count": 75
        }
      ]
    },
    {
      "cell_type": "code",
      "source": [
        "stats.mannwhitneyu(dfTP['VLDL'], dfFN['VLDL'], alternative = 'greater')"
      ],
      "metadata": {
        "colab": {
          "base_uri": "https://localhost:8080/"
        },
        "id": "FuJHJmOqzMW1",
        "outputId": "bbcc75b5-c570-4e9d-c152-381077adfd4a"
      },
      "execution_count": 76,
      "outputs": [
        {
          "output_type": "execute_result",
          "data": {
            "text/plain": [
              "MannwhitneyuResult(statistic=4524.0, pvalue=0.2618372801989842)"
            ]
          },
          "metadata": {},
          "execution_count": 76
        }
      ]
    },
    {
      "cell_type": "code",
      "source": [
        "stats.kstest(dfTP['HDL'], 'norm') "
      ],
      "metadata": {
        "colab": {
          "base_uri": "https://localhost:8080/"
        },
        "id": "K848rLc9aRE7",
        "outputId": "39b94a23-d4e4-442b-c4aa-0565aa18e7bc"
      },
      "execution_count": 77,
      "outputs": [
        {
          "output_type": "execute_result",
          "data": {
            "text/plain": [
              "KstestResult(statistic=1.0, pvalue=0.0)"
            ]
          },
          "metadata": {},
          "execution_count": 77
        }
      ]
    },
    {
      "cell_type": "code",
      "source": [
        "stats.shapiro(dfFN['HDL'])"
      ],
      "metadata": {
        "colab": {
          "base_uri": "https://localhost:8080/"
        },
        "id": "u67UWXxiaQ-1",
        "outputId": "af6ca846-57ba-40f8-c30a-2de6abac6745"
      },
      "execution_count": 78,
      "outputs": [
        {
          "output_type": "execute_result",
          "data": {
            "text/plain": [
              "ShapiroResult(statistic=0.9617977142333984, pvalue=0.20465655624866486)"
            ]
          },
          "metadata": {},
          "execution_count": 78
        }
      ]
    },
    {
      "cell_type": "code",
      "source": [
        "stats.mannwhitneyu(dfTP['HDL'], dfFN['HDL'], alternative = 'greater')"
      ],
      "metadata": {
        "colab": {
          "base_uri": "https://localhost:8080/"
        },
        "id": "VoATRvAJaQ0I",
        "outputId": "9da3a161-02e5-43b2-8647-1331eb1a75b9"
      },
      "execution_count": 79,
      "outputs": [
        {
          "output_type": "execute_result",
          "data": {
            "text/plain": [
              "MannwhitneyuResult(statistic=4178.0, pvalue=0.5682877275621815)"
            ]
          },
          "metadata": {},
          "execution_count": 79
        }
      ]
    },
    {
      "cell_type": "code",
      "source": [
        "stats.kstest(dfTP['AST'], 'norm') "
      ],
      "metadata": {
        "colab": {
          "base_uri": "https://localhost:8080/"
        },
        "id": "9rp3i-foNLSV",
        "outputId": "041bdf7c-a771-43f7-a0c8-abdac8f752e4"
      },
      "execution_count": 80,
      "outputs": [
        {
          "output_type": "execute_result",
          "data": {
            "text/plain": [
              "KstestResult(statistic=1.0, pvalue=0.0)"
            ]
          },
          "metadata": {},
          "execution_count": 80
        }
      ]
    },
    {
      "cell_type": "code",
      "source": [
        "stats.shapiro(dfFN['AST'])"
      ],
      "metadata": {
        "colab": {
          "base_uri": "https://localhost:8080/"
        },
        "id": "sSSRjE_YbXa8",
        "outputId": "c558e40f-dd8c-4e5f-997d-d41aa44e5033"
      },
      "execution_count": 81,
      "outputs": [
        {
          "output_type": "execute_result",
          "data": {
            "text/plain": [
              "ShapiroResult(statistic=0.8198966383934021, pvalue=2.2197486032382585e-05)"
            ]
          },
          "metadata": {},
          "execution_count": 81
        }
      ]
    },
    {
      "cell_type": "code",
      "source": [
        "stats.mannwhitneyu(dfTP['AST'], dfFN['AST'], alternative = 'greater')"
      ],
      "metadata": {
        "colab": {
          "base_uri": "https://localhost:8080/"
        },
        "id": "_7VUJeocJsr2",
        "outputId": "d90568a0-b849-474c-b36a-a69832f34707"
      },
      "execution_count": 82,
      "outputs": [
        {
          "output_type": "execute_result",
          "data": {
            "text/plain": [
              "MannwhitneyuResult(statistic=5516.0, pvalue=0.0015368084418545713)"
            ]
          },
          "metadata": {},
          "execution_count": 82
        }
      ]
    },
    {
      "cell_type": "code",
      "source": [
        "stats.kstest(dfTP['ALT'], 'norm') "
      ],
      "metadata": {
        "colab": {
          "base_uri": "https://localhost:8080/"
        },
        "id": "8vtnJYThPWKU",
        "outputId": "07b28ac9-d04f-46df-94e7-4b2aa8b89858"
      },
      "execution_count": 83,
      "outputs": [
        {
          "output_type": "execute_result",
          "data": {
            "text/plain": [
              "KstestResult(statistic=0.9999999999999993, pvalue=0.0)"
            ]
          },
          "metadata": {},
          "execution_count": 83
        }
      ]
    },
    {
      "cell_type": "code",
      "source": [
        "stats.shapiro(dfFN['ALT'])"
      ],
      "metadata": {
        "colab": {
          "base_uri": "https://localhost:8080/"
        },
        "id": "qOmzcpFKbiNg",
        "outputId": "355653fa-ec2b-4c13-b274-0bf46a275f8f"
      },
      "execution_count": 84,
      "outputs": [
        {
          "output_type": "execute_result",
          "data": {
            "text/plain": [
              "ShapiroResult(statistic=0.7747079730033875, pvalue=2.6352449822297785e-06)"
            ]
          },
          "metadata": {},
          "execution_count": 84
        }
      ]
    },
    {
      "cell_type": "code",
      "source": [
        "stats.mannwhitneyu(dfTP['ALT'], dfFN['ALT'], alternative = 'greater')"
      ],
      "metadata": {
        "colab": {
          "base_uri": "https://localhost:8080/"
        },
        "id": "3n_cLsh0PeEE",
        "outputId": "49a141a8-5e2e-40bb-d526-4577a1f3d479"
      },
      "execution_count": 85,
      "outputs": [
        {
          "output_type": "execute_result",
          "data": {
            "text/plain": [
              "MannwhitneyuResult(statistic=5686.5, pvalue=0.00039257851398279495)"
            ]
          },
          "metadata": {},
          "execution_count": 85
        }
      ]
    },
    {
      "cell_type": "code",
      "source": [
        "#Push the local repository and all the created files and directories onto the Lab8 public repository on Github\n",
        "#using private key and public keyhole."
      ],
      "metadata": {
        "id": "bhDYzS_M7zOq"
      },
      "execution_count": 86,
      "outputs": []
    },
    {
      "cell_type": "code",
      "source": [
        "%%bash\n",
        "cat > .gitignore\n",
        ".*\n",
        ".gitignore"
      ],
      "metadata": {
        "id": "pjGqjYuZ70H9"
      },
      "execution_count": 87,
      "outputs": []
    },
    {
      "cell_type": "code",
      "source": [
        "%%bash\n",
        "git config --global user.email \"alextai@usc.edu\"\n",
        "git config --global user.name \"Alex Tai\""
      ],
      "metadata": {
        "id": "9fQ_6kIQ74bn"
      },
      "execution_count": 88,
      "outputs": []
    },
    {
      "cell_type": "code",
      "source": [
        "%%bash\n",
        "git init"
      ],
      "metadata": {
        "id": "4fHw34xI75CC"
      },
      "execution_count": 89,
      "outputs": []
    },
    {
      "cell_type": "code",
      "source": [
        "%%bash\n",
        "git add -A"
      ],
      "metadata": {
        "id": "TL1VaI8y7-13"
      },
      "execution_count": 90,
      "outputs": []
    },
    {
      "cell_type": "code",
      "source": [
        "%%bash\n",
        "git commit -m \"Added Final Project\""
      ],
      "metadata": {
        "id": "Bdj7GS5A8CU9"
      },
      "execution_count": 91,
      "outputs": []
    },
    {
      "cell_type": "code",
      "source": [
        "%%bash\n",
        "ssh-keygen -t ed25519 -C '[alextai@usc.edu]' -f ~/.ssh/id_ed25519 -P ''\n",
        "cat > ~/.ssh/config\n",
        "Host *\n",
        "  AddKeysToAgent yes\n",
        "  IdentityFile ~/.ssh/id_ed25519"
      ],
      "metadata": {
        "id": "nmXxMMKV8DVm"
      },
      "execution_count": 92,
      "outputs": []
    },
    {
      "cell_type": "code",
      "source": [
        "%%bash\n",
        "cat ~/.ssh/id_ed25519"
      ],
      "metadata": {
        "id": "E57KkpJl8QhQ"
      },
      "execution_count": 93,
      "outputs": []
    },
    {
      "cell_type": "code",
      "source": [
        "%%bash\n",
        "eval \"$(ssh-agent -s)\"\n",
        "ssh-add ~/.ssh/id_ed25519"
      ],
      "metadata": {
        "id": "3Rx9a0Cm8RIv"
      },
      "execution_count": 94,
      "outputs": []
    },
    {
      "cell_type": "code",
      "source": [
        "%%bash\n",
        "cat ~/.ssh/id_ed25519.pub"
      ],
      "metadata": {
        "id": "ZqWidY398Ug7"
      },
      "execution_count": 95,
      "outputs": []
    },
    {
      "cell_type": "code",
      "source": [
        "%%bash\n",
        "sudo ssh -o \"StrictHostKeyChecking no\" -T git@github.com | exit 0"
      ],
      "metadata": {
        "id": "PVrA16_I8W44"
      },
      "execution_count": 96,
      "outputs": []
    },
    {
      "cell_type": "code",
      "source": [
        "%%bash\n",
        "git remote add origin git@github.com:alextai24/FinalProjectCXPT501.git \n",
        "git branch -M main\n",
        "git push -u origin main"
      ],
      "metadata": {
        "id": "xDAE_aHF8ZtG"
      },
      "execution_count": 97,
      "outputs": []
    }
  ]
}